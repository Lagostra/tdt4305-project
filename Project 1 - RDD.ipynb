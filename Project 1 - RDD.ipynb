{
 "cells": [
  {
   "cell_type": "markdown",
   "metadata": {},
   "source": [
    "# TDT4305 Project 1 - RDD Tasks"
   ]
  },
  {
   "cell_type": "code",
   "execution_count": 82,
   "metadata": {},
   "outputs": [],
   "source": [
    "from datetime import datetime"
   ]
  },
  {
   "cell_type": "markdown",
   "metadata": {},
   "source": [
    "## Loading data files"
   ]
  },
  {
   "cell_type": "code",
   "execution_count": 67,
   "metadata": {},
   "outputs": [],
   "source": [
    "reviews = sc.textFile('data/yelp_top_reviewers_with_reviews.csv') \\\n",
    "    .zipWithIndex() \\\n",
    "    .filter(lambda x: x[1] > 0) \\\n",
    "    .map(lambda x: x[0].replace('\"', '').split('\\t'))\n",
    "# \"review_id\",\"user_id\",\"business_id\",\"review_text\",\"review_date\""
   ]
  },
  {
   "cell_type": "code",
   "execution_count": 68,
   "metadata": {},
   "outputs": [],
   "source": [
    "businesses = sc.textFile('data/yelp_businesses.csv') \\\n",
    "    .zipWithIndex() \\\n",
    "    .filter(lambda x: x[1] > 0) \\\n",
    "    .map(lambda x: x[0].replace('\"', '').split('\\t'))\n",
    "# \"business_id\",\"name\",\"address\",\"city\",\"state\",\"postal_code\",\n",
    "# \"latitude\",\"longitude\",\"stars\",\"review_count\",\"categories\""
   ]
  },
  {
   "cell_type": "code",
   "execution_count": 69,
   "metadata": {},
   "outputs": [],
   "source": [
    "friendships = sc.textFile('data/yelp_top_users_friendship_graph.csv') \\\n",
    "    .zipWithIndex() \\\n",
    "    .filter(lambda x: x[1] > 0) \\\n",
    "    .map(lambda x: x[0].replace('\"', '').split(','))\n",
    "# \"src_user_id\",\"dst_user_id\""
   ]
  },
  {
   "cell_type": "markdown",
   "metadata": {},
   "source": [
    "## Task 1"
   ]
  },
  {
   "cell_type": "markdown",
   "metadata": {},
   "source": [
    "### Counting number of rows"
   ]
  },
  {
   "cell_type": "code",
   "execution_count": 70,
   "metadata": {},
   "outputs": [
    {
     "data": {
      "text/plain": [
       "883737"
      ]
     },
     "execution_count": 70,
     "metadata": {},
     "output_type": "execute_result"
    }
   ],
   "source": [
    "reviews.count()"
   ]
  },
  {
   "cell_type": "code",
   "execution_count": 71,
   "metadata": {},
   "outputs": [
    {
     "data": {
      "text/plain": [
       "192609"
      ]
     },
     "execution_count": 71,
     "metadata": {},
     "output_type": "execute_result"
    }
   ],
   "source": [
    "businesses.count()"
   ]
  },
  {
   "cell_type": "code",
   "execution_count": 72,
   "metadata": {},
   "outputs": [
    {
     "data": {
      "text/plain": [
       "1938472"
      ]
     },
     "execution_count": 72,
     "metadata": {},
     "output_type": "execute_result"
    }
   ],
   "source": [
    "friendships.count()"
   ]
  },
  {
   "cell_type": "markdown",
   "metadata": {},
   "source": [
    "## Task 2"
   ]
  },
  {
   "cell_type": "markdown",
   "metadata": {},
   "source": [
    "### a) Finding number of distinct users"
   ]
  },
  {
   "cell_type": "code",
   "execution_count": 73,
   "metadata": {},
   "outputs": [
    {
     "data": {
      "text/plain": [
       "160735"
      ]
     },
     "execution_count": 73,
     "metadata": {},
     "output_type": "execute_result"
    }
   ],
   "source": [
    "f_users = friendships.map(lambda row: row[0])\n",
    "r_users = reviews.map(lambda row: row[1])\n",
    "\n",
    "all_users = sc.union([f_users, r_users])\n",
    "all_users.distinct().count()"
   ]
  },
  {
   "cell_type": "markdown",
   "metadata": {},
   "source": [
    "### b) Average numbers of characters in a review"
   ]
  },
  {
   "cell_type": "code",
   "execution_count": 74,
   "metadata": {},
   "outputs": [
    {
     "data": {
      "text/plain": [
       "1144.164193645845"
      ]
     },
     "execution_count": 74,
     "metadata": {},
     "output_type": "execute_result"
    }
   ],
   "source": [
    "reviews.map(lambda row: len(row[3])).mean()"
   ]
  },
  {
   "cell_type": "markdown",
   "metadata": {},
   "source": [
    "### c) Top 10 businesses by amount of reviews"
   ]
  },
  {
   "cell_type": "code",
   "execution_count": 159,
   "metadata": {},
   "outputs": [],
   "source": [
    "top_businesses_by_review = reviews.map(lambda row: (row[2], 1)).reduceByKey(lambda x, y: x + y) \\\n",
    "    .sortBy(lambda row: row[1], ascending=False) \\\n",
    "    .map(lambda row: row[0])"
   ]
  },
  {
   "cell_type": "code",
   "execution_count": 160,
   "metadata": {},
   "outputs": [
    {
     "data": {
      "text/plain": [
       "['FaHADZARwnY4yvlvpnsfGA',\n",
       " '4JNXUYY8wbaaDmk3BPzlWw',\n",
       " 'JmI9nslLD7KZqRr__Bg6NQ',\n",
       " 'RESDUcs7fIiihp38-d6_6g',\n",
       " '7sPNbCx7vGAaH7SbNPZ6oA',\n",
       " 'iCQpiavjjPzJ5_3gPD5Ebg',\n",
       " 'K7lWdNUhCbcnEvI0NhGewg',\n",
       " 'A5Rkh7UymKm0_Rxm9K2PJw',\n",
       " '9a3DrZvpYxVs3k_qwlCNSw',\n",
       " '5LNZ67Yw9RD6nf4_UhXOjw']"
      ]
     },
     "execution_count": 160,
     "metadata": {},
     "output_type": "execute_result"
    }
   ],
   "source": [
    "top_businesses_by_review.take(10)"
   ]
  },
  {
   "cell_type": "markdown",
   "metadata": {},
   "source": [
    "### d) Reviews per year"
   ]
  },
  {
   "cell_type": "code",
   "execution_count": 157,
   "metadata": {},
   "outputs": [],
   "source": [
    "reviews_per_year = reviews.map(lambda row: (datetime.fromtimestamp(float(row[4])).year, 1)) \\\n",
    "    .reduceByKey(lambda x, y: x + y) \\\n",
    "    .sortBy(lambda x: x[0])"
   ]
  },
  {
   "cell_type": "code",
   "execution_count": 158,
   "metadata": {},
   "outputs": [
    {
     "data": {
      "text/plain": [
       "[(2004, 2),\n",
       " (2005, 215),\n",
       " (2006, 915),\n",
       " (2007, 6245),\n",
       " (2008, 17269),\n",
       " (2009, 24880),\n",
       " (2010, 49394),\n",
       " (2011, 73952),\n",
       " (2012, 83388),\n",
       " (2013, 98324),\n",
       " (2014, 100526),\n",
       " (2015, 109816),\n",
       " (2016, 114738),\n",
       " (2017, 114141),\n",
       " (2018, 89932)]"
      ]
     },
     "execution_count": 158,
     "metadata": {},
     "output_type": "execute_result"
    }
   ],
   "source": [
    "reviews_per_year.collect()"
   ]
  },
  {
   "cell_type": "markdown",
   "metadata": {},
   "source": [
    "### e) First and last review"
   ]
  },
  {
   "cell_type": "code",
   "execution_count": 97,
   "metadata": {},
   "outputs": [],
   "source": [
    "dates = reviews.map(lambda row: float(row[4]))\n",
    "\n",
    "first_review = datetime.fromtimestamp(dates.sortBy(lambda x: x).first())\n",
    "last_review = datetime.fromtimestamp(dates.sortBy(lambda x: -x).first())"
   ]
  },
  {
   "cell_type": "code",
   "execution_count": 103,
   "metadata": {},
   "outputs": [
    {
     "data": {
      "text/plain": [
       "'19.12.2004, 20:47:24'"
      ]
     },
     "execution_count": 103,
     "metadata": {},
     "output_type": "execute_result"
    }
   ],
   "source": [
    "first_review.strftime(\"%d.%m.%Y, %H:%M:%S\")"
   ]
  },
  {
   "cell_type": "code",
   "execution_count": 102,
   "metadata": {},
   "outputs": [
    {
     "data": {
      "text/plain": [
       "'14.11.2018, 18:10:56'"
      ]
     },
     "execution_count": 102,
     "metadata": {},
     "output_type": "execute_result"
    }
   ],
   "source": [
    "last_review.strftime(\"%d.%m.%Y, %H:%M:%S\")"
   ]
  },
  {
   "cell_type": "markdown",
   "metadata": {},
   "source": [
    "### f) Pearson Correlation Coefficient"
   ]
  },
  {
   "cell_type": "code",
   "execution_count": 116,
   "metadata": {},
   "outputs": [],
   "source": [
    "count_and_length = reviews.map(lambda row: (row[1], len(row[3]))) \\\n",
    "    .aggregateByKey((0, 0), lambda x, y: (x[0] + 1, x[1] + y), lambda x, y: (x[0] + y[0], x[1] + y[1])) \\\n",
    "    .map(lambda row: (row[0], row[1][0], row[1][1] / row[1][0]))"
   ]
  },
  {
   "cell_type": "code",
   "execution_count": 117,
   "metadata": {},
   "outputs": [
    {
     "data": {
      "text/plain": [
       "('-InhDRRVG7wrwsgAUvN4Qw', 555, 1493.3261261261262)"
      ]
     },
     "execution_count": 117,
     "metadata": {},
     "output_type": "execute_result"
    }
   ],
   "source": [
    "count_and_length.first()"
   ]
  },
  {
   "cell_type": "code",
   "execution_count": 123,
   "metadata": {},
   "outputs": [],
   "source": [
    "# (count, review_count_sum, review_length_sum)\n",
    "agg = count_and_length.map(lambda row: (row[1], row[2])) \\\n",
    "    .aggregate((0, 0, 0),\n",
    "                lambda x, y: (x[0] + 1, x[1] + y[0], x[2] + y[1]),\n",
    "                lambda x, y: (x[0] + y[0], x[1] + y[1], x[2] + y[2])\n",
    "              )\n",
    "x_avg = agg[1] / agg[0]\n",
    "y_avg = agg[2] / agg[0]"
   ]
  },
  {
   "cell_type": "code",
   "execution_count": 126,
   "metadata": {},
   "outputs": [],
   "source": [
    "pcc_agg = count_and_length.map(lambda row: (row[1], row[2])) \\\n",
    "    .map(lambda row: (\n",
    "                         (row[0] - x_avg) * (row[1] - y_avg),\n",
    "                         (row[0] - x_avg) ** 2,\n",
    "                         (row[1] - y_avg) ** 2\n",
    "                     )) \\\n",
    "    .reduce(lambda x, y: (x[0] + y[0], x[1] + y[1], x[2] + y[2]))\n",
    "\n",
    "pcc = pcc_agg[0] / ((pcc_agg[1] ** 0.5) * (pcc_agg[2] ** 0.5))"
   ]
  },
  {
   "cell_type": "code",
   "execution_count": 127,
   "metadata": {},
   "outputs": [
    {
     "data": {
      "text/plain": [
       "0.12597976815180284"
      ]
     },
     "execution_count": 127,
     "metadata": {},
     "output_type": "execute_result"
    }
   ],
   "source": [
    "pcc"
   ]
  },
  {
   "cell_type": "markdown",
   "metadata": {},
   "source": [
    "## Task 3"
   ]
  },
  {
   "cell_type": "markdown",
   "metadata": {},
   "source": [
    "### a) Average rating by city"
   ]
  },
  {
   "cell_type": "code",
   "execution_count": 154,
   "metadata": {},
   "outputs": [],
   "source": [
    "avg_rating_by_city = businesses.map(lambda row: (row[3], (float(row[8]), 1))) \\\n",
    "    .reduceByKey(lambda x, y: (x[0] + y[0], x[1] + y[1])) \\\n",
    "    .map(lambda row: (row[0], row[1][0] / row[1][1])) \\\n",
    "    .sortBy(lambda x: x[0])"
   ]
  },
  {
   "cell_type": "code",
   "execution_count": 156,
   "metadata": {},
   "outputs": [
    {
     "data": {
      "text/plain": [
       "[('110 Las Vegas', 5.0),\n",
       " ('AGINCOURT', 2.0),\n",
       " ('AVON', 5.0),\n",
       " ('AZ', 3.0),\n",
       " ('Agincourt', 2.0),\n",
       " ('Ahwahtukee', 5.0),\n",
       " ('Ahwatukee', 3.5789473684210527),\n",
       " ('Ahwatukee Foothills Village', 5.0),\n",
       " ('Airdrie', 2.9464285714285716),\n",
       " ('Ajax', 3.0495049504950495),\n",
       " ('Akron', 3.2129032258064516),\n",
       " ('Alberta', 2.0),\n",
       " ('Alburg', 5.0),\n",
       " ('Alburgh', 3.0),\n",
       " ('Aliquippa', 3.0),\n",
       " ('Allegheny', 5.0),\n",
       " ('Allentown', 4.0),\n",
       " ('Allison Park', 3.2083333333333335),\n",
       " ('Ambridge', 3.7222222222222223),\n",
       " ('Amherst', 3.142857142857143),\n",
       " ('Ange-Gardien', 1.0),\n",
       " ('Anjou', 3.0),\n",
       " ('Ansnorveldt', 4.0),\n",
       " ('Anthem', 3.6923076923076925),\n",
       " ('Antioch', 2.0),\n",
       " ('Apache Junction', 3.5384615384615383),\n",
       " ('Apache Trail', 3.0),\n",
       " ('Arizona', 5.0),\n",
       " ('Arnold', 4.25),\n",
       " ('Arrowhead', 3.0),\n",
       " ('Ashburn', 3.5),\n",
       " ('Aspinwall', 3.4444444444444446),\n",
       " ('Auburn', 5.0),\n",
       " ('Auburn Township', 4.0),\n",
       " ('Auburn Twp', 2.0),\n",
       " ('Aurora', 3.247191011235955),\n",
       " ('Austin', 5.0),\n",
       " ('Avalon', 4.0),\n",
       " ('Avon', 3.4043478260869566),\n",
       " ('Avon Lake', 3.3278688524590163),\n",
       " ('Avon lake', 3.0),\n",
       " ('Avondale', 3.2305433186490453),\n",
       " (\"Baie-d'Urfe\", 3.0),\n",
       " (\"Baie-d'Urfé\", 3.5),\n",
       " ('Bainbridge', 3.4444444444444446),\n",
       " ('Bainbridge Township', 2.0),\n",
       " ('Bakerstown', 4.0),\n",
       " ('Baldwin', 3.5),\n",
       " ('Ballantyne', 4.0),\n",
       " ('Balzac', 2.8181818181818183),\n",
       " ('Banksville', 4.0),\n",
       " ('Barberton', 5.0),\n",
       " ('Bath', 4.2),\n",
       " ('Bay Village', 3.652173913043478),\n",
       " ('Beachwood', 3.1972318339100347),\n",
       " ('Beachwood ', 4.0),\n",
       " ('Beaconsfield', 3.8181818181818183),\n",
       " ('Beauharnois', 3.0),\n",
       " ('Bedford', 3.008771929824561),\n",
       " ('Bedford Heights', 2.88),\n",
       " ('Bedford Hts', 4.0),\n",
       " ('Bedford Hts.', 3.0),\n",
       " ('Beeton', 4.2),\n",
       " ('Belle Vernon', 3.0),\n",
       " ('Belleville', 3.357142857142857),\n",
       " ('Bellevue', 3.5121951219512195),\n",
       " ('Bellvue', 3.6),\n",
       " ('Belmont', 3.3),\n",
       " ('Beloeil', 3.0),\n",
       " ('Beltline', 5.0),\n",
       " ('Belœil', 5.0),\n",
       " ('Ben Avon', 4.0),\n",
       " ('Bentleyville', 5.0),\n",
       " ('Berea', 3.165289256198347),\n",
       " ('Berry', 4.0),\n",
       " ('Bethel Park', 3.345),\n",
       " ('Black Earth', 3.7777777777777777),\n",
       " ('Black Rock City', 5.0),\n",
       " ('Blainville', 3.6363636363636362),\n",
       " ('Blakeney', 4.0),\n",
       " ('Blawnox', 3.6666666666666665),\n",
       " ('Bloomfield', 4.0),\n",
       " ('Blue Diamond', 3.9166666666666665),\n",
       " ('Blue Mounds', 3.0),\n",
       " ('Bois-des-Filion', 3.6666666666666665),\n",
       " ('Boisbriand', 3.0),\n",
       " ('Bolton', 3.0681818181818183),\n",
       " ('Bond Head', 2.0),\n",
       " ('Boston', 4.0),\n",
       " ('Boston Heights', 4.0),\n",
       " ('Boucherville', 3.272727272727273),\n",
       " ('Boulder City', 3.7806691449814127),\n",
       " ('Braddock', 3.727272727272727),\n",
       " ('Bradford', 2.8484848484848486),\n",
       " ('Bradford West Gwillimbury', 3.3157894736842106),\n",
       " ('Bradfordwoods', 4.0),\n",
       " ('Brampton', 2.964071856287425),\n",
       " ('Bratenahl', 3.6666666666666665),\n",
       " ('Brecksville', 3.4074074074074074),\n",
       " ('Brentwood', 3.111111111111111),\n",
       " ('Bridgeville', 3.193717277486911),\n",
       " ('Broadlands', 5.0),\n",
       " ('Broadview Heights', 3.2542372881355934),\n",
       " ('Broadview Hts', 4.0),\n",
       " ('Brook Park', 2.9454545454545453),\n",
       " ('Brooklin', 3.4),\n",
       " ('Brookline', 3.0),\n",
       " ('Brooklyn', 2.8974358974358974),\n",
       " ('Brooklyn Heights', 3.6666666666666665),\n",
       " ('Brooklyn Hts.', 4.0),\n",
       " ('Brookpark', 2.75),\n",
       " ('Brossard', 3.146892655367232),\n",
       " ('Brownsburg-Chatham', 4.0),\n",
       " ('Brunswick', 3.1931818181818183),\n",
       " ('Brunswick Hills', 4.0),\n",
       " ('Buckeye', 3.63768115942029),\n",
       " ('Buckeye - Shaker', 3.0),\n",
       " ('Buena Vista', 2.0),\n",
       " ('Burlington', 1.0),\n",
       " ('Burton', 3.6153846153846154),\n",
       " ('Bury', 5.0),\n",
       " ('C Las Vegas', 3.0),\n",
       " ('CALGARY', 5.0),\n",
       " ('CAREFREE', 4.0),\n",
       " ('CARSON', 5.0),\n",
       " ('CAVE CREEK', 5.0),\n",
       " ('CHARLOTTE', 3.857142857142857),\n",
       " ('CLEVELAND', 4.0),\n",
       " ('CONCORD', 3.0),\n",
       " ('Caledon', 3.3636363636363638),\n",
       " ('Caledon East', 3.2222222222222223),\n",
       " ('Caledon Village', 3.0),\n",
       " ('Calgary', 3.1579627714581178),\n",
       " ('Candiac', 3.3333333333333335),\n",
       " ('Canonsburd', 1.0),\n",
       " ('Canonsburg', 3.3006134969325154),\n",
       " ('Carefree', 3.74),\n",
       " ('Carnegie', 3.419642857142857),\n",
       " ('Castle Shannon', 3.0),\n",
       " ('Catawba Springs', 3.0),\n",
       " ('Cave Creek', 3.756218905472637),\n",
       " ('Cave Creek Road', 5.0),\n",
       " ('Cave creek', 5.0),\n",
       " ('Cecil', 3.888888888888889),\n",
       " ('Centennial Hills', 3.0),\n",
       " ('Central', 2.0),\n",
       " ('Central City', 3.0),\n",
       " ('Central City Village', 3.0),\n",
       " ('Central Henderson', 3.0),\n",
       " ('Central Oakland', 3.0),\n",
       " ('Centre Island', 4.0),\n",
       " ('Chagrin Falls', 3.6479591836734695),\n",
       " ('Chambly', 3.5384615384615383),\n",
       " ('Champaign', 3.2036450079239303),\n",
       " ('Champlain', 2.5),\n",
       " ('Chander', 4.0),\n",
       " ('Chandler', 3.518681828730564),\n",
       " ('Chandler-Gilbert', 5.0),\n",
       " ('Char', 4.0),\n",
       " ('Chardon', 3.264367816091954),\n",
       " ('Chargrin Falls', 3.0),\n",
       " ('Charlemagne', 3.0),\n",
       " ('Charlotte', 3.3145441161005365),\n",
       " ('Charlotte ', 1.0),\n",
       " ('Chatauguay', 4.0),\n",
       " ('Chateau', 5.0),\n",
       " ('Chateauguay', 3.0),\n",
       " ('Chattanooga', 5.0),\n",
       " ('Chertsey', 4.0),\n",
       " ('Chesterland', 3.5074626865671643),\n",
       " ('Chestermere', 2.870967741935484),\n",
       " ('Cheswick', 3.1379310344827585),\n",
       " ('Chomedey, Laval', 3.0),\n",
       " ('Church Cove', 3.0),\n",
       " ('Châteauguay', 3.230769230769231),\n",
       " ('Citibank', 2.0),\n",
       " ('City Center', 5.0),\n",
       " ('Clairton', 3.5625),\n",
       " ('Claremont', 3.0),\n",
       " ('Clark', 2.5),\n",
       " ('Clarkson', 2.3333333333333335),\n",
       " ('Cleveland', 3.335644937586685),\n",
       " ('Cleveland Heigh', 2.0),\n",
       " ('Cleveland Height', 3.0),\n",
       " ('Cleveland Heights', 3.419811320754717),\n",
       " ('Cleveland Hghts.', 3.0),\n",
       " ('Cleveland Hts.', 1.0),\n",
       " ('Cleveland, OH', 3.0),\n",
       " ('Clinton', 5.0),\n",
       " ('Closter', 5.0),\n",
       " ('Clover', 2.847826086956522),\n",
       " ('Columbia Sta', 2.0),\n",
       " ('Columbia Station', 2.962962962962963),\n",
       " ('Columbus', 4.0),\n",
       " ('Communauté-Urbaine-de-Montréal', 4.0),\n",
       " ('Concord', 3.1636363636363636),\n",
       " ('Concord Mills', 3.0),\n",
       " ('Concord Township', 3.0),\n",
       " ('Concord Twp', 4.5),\n",
       " ('Cooksville', 1.5),\n",
       " ('Copley', 2.7837837837837838),\n",
       " ('Coraopolis', 3.2705882352941176),\n",
       " ('Cornelius', 3.571729957805907),\n",
       " ('Cote Saint Luc', 3.0),\n",
       " ('Cote Saint-Luc', 2.5714285714285716),\n",
       " ('Cote-Saint-Luc', 3.0),\n",
       " ('Coteau-du-Lac', 3.5),\n",
       " ('Cottage Grove', 3.2972972972972974),\n",
       " ('Crafton', 2.9166666666666665),\n",
       " ('Cramerton', 3.6666666666666665),\n",
       " ('Cranberry Township', 5.0),\n",
       " ('Cranberry Twp', 1.0),\n",
       " ('Creighton', 3.0),\n",
       " ('Crescent', 3.0),\n",
       " ('Cross Plains', 3.5),\n",
       " ('Crouse', 5.0),\n",
       " ('Cuddy', 3.5),\n",
       " ('Cuyahoga Falls', 3.2175141242937855),\n",
       " ('Cuyahoga Fls', 2.6666666666666665),\n",
       " ('Cuyahoga Heights', 4.5),\n",
       " ('Cuyohoga Falls', 4.0),\n",
       " ('Côte Saint-Luc', 4.0),\n",
       " ('Côte-Saint-Luc', 5.0),\n",
       " ('DENVER', 3.0),\n",
       " ('Dallas', 3.1785714285714284),\n",
       " ('Dane', 4.0),\n",
       " ('Darlington', 1.0),\n",
       " ('Davidson', 3.5185185185185186),\n",
       " ('De Forest', 3.1538461538461537),\n",
       " ('De Winton', 2.0),\n",
       " (\"De l'Eglise\", 1.0),\n",
       " ('DeForest', 3.5),\n",
       " ('Decatur', 2.0),\n",
       " ('Deerfield', 3.0),\n",
       " ('Deforest', 2.4),\n",
       " ('Delson', 3.4285714285714284),\n",
       " ('Denver', 3.226086956521739),\n",
       " ('Desert Ridge', 4.0),\n",
       " ('Deux-Montagnes', 4.0),\n",
       " ('Deux-Montagnes Regional County Municipality', 4.0),\n",
       " ('Dewey', 2.0),\n",
       " ('Division No. 6', 2.6666666666666665),\n",
       " ('Dollard-Des Ormeaux', 3.0),\n",
       " ('Dollard-Des-Ormeaux', 2.9642857142857144),\n",
       " ('Dollard-des Ormeaux', 4.0),\n",
       " ('Dollard-des-Ormeaux', 3.1954022988505746),\n",
       " ('Don Mills', 3.75),\n",
       " ('Dormont', 4.125),\n",
       " ('Dorval', 2.7731958762886597),\n",
       " ('Down', 3.0),\n",
       " ('Downsview', 3.0),\n",
       " ('Downtown', 2.8),\n",
       " ('Downtown Toronto', 2.75),\n",
       " ('Draper', 2.0),\n",
       " ('Dravosburg', 2.9),\n",
       " ('Dublin', 2.0),\n",
       " ('Duquesne', 3.1666666666666665),\n",
       " ('Durham Regional Municipality', 2.0),\n",
       " ('ETOBICOKE', 3.0),\n",
       " ('East Ajax', 3.0),\n",
       " ('East Calgary', 2.0),\n",
       " ('East Cleveland', 2.5714285714285716),\n",
       " ('East Credit', 2.0),\n",
       " ('East Gwilimbury', 3.0),\n",
       " ('East Gwillimbury', 3.2222222222222223),\n",
       " ('East Hawkesbury', 4.0),\n",
       " ('East Liberty', 2.3333333333333335),\n",
       " ('East Mc Keesport', 3.3333333333333335),\n",
       " ('East McKeesport', 2.8),\n",
       " ('East Mesa', 5.0),\n",
       " ('East Mississauga', 3.5),\n",
       " ('East Pittsburgh', 3.5),\n",
       " ('East York', 3.1739130434782608),\n",
       " ('Eastlake', 3.189189189189189),\n",
       " ('Edgemont', 5.0),\n",
       " ('Edgewood', 3.0),\n",
       " ('Edmonton', 1.0),\n",
       " ('Eighty Four', 3.5),\n",
       " ('El Mirage', 3.3524590163934427),\n",
       " ('Elizabeth', 3.4571428571428573),\n",
       " ('Elizabeth Township', 3.0),\n",
       " ('Elrama', 4.0),\n",
       " ('Elyria', 3.0721153846153846),\n",
       " ('Emsworth', 4.333333333333333),\n",
       " ('Enterprise', 3.0),\n",
       " ('Erie', 2.0),\n",
       " ('Estrella Village', 4.0),\n",
       " ('Estérel', 3.0),\n",
       " ('Etibicoke', 2.0),\n",
       " ('Etna', 3.25),\n",
       " ('Etobicoke', 3.0151324085750315),\n",
       " ('Etobicoke,', 1.0),\n",
       " ('Etobiicoke', 3.5),\n",
       " ('Euclid', 3.0377358490566038),\n",
       " ('Evergreen', 3.0),\n",
       " ('Export', 3.8),\n",
       " ('FORT MILL', 4.0),\n",
       " ('Fabreville', 4.0),\n",
       " ('Fairlawn', 3.267515923566879),\n",
       " ('Fairport Harbor', 3.8333333333333335),\n",
       " ('Fairview Park', 3.4150943396226414),\n",
       " ('Farmington', 4.0),\n",
       " ('Farnham', 4.5),\n",
       " ('Finleyville', 3.7142857142857144),\n",
       " ('Fisher', 4.0),\n",
       " ('Fitchburg', 3.288557213930348),\n",
       " ('Fitchburgh', 5.0),\n",
       " ('Fithian', 4.0),\n",
       " ('Forest Hills', 2.0),\n",
       " ('Fort  Mill', 3.0),\n",
       " ('Fort McDowell', 2.909090909090909),\n",
       " ('Fort Mcdowell', 3.3333333333333335),\n",
       " ('Fort Mill', 3.3716108452950557),\n",
       " ('Fort mill', 3.0),\n",
       " ('Fountain Hills', 3.6115942028985506),\n",
       " ('Fountain Hls', 4.0),\n",
       " ('Fox Chapel', 4.0),\n",
       " ('Franklin Park', 3.5),\n",
       " ('Frazer', 4.0),\n",
       " ('Ft. Mill', 2.5),\n",
       " ('GASTONIA', 4.0),\n",
       " ('GILBERT', 4.0),\n",
       " ('GIlbert', 5.0),\n",
       " ('GLENDALE', 4.0),\n",
       " ('GOODYEAR', 3.0),\n",
       " ('Garfield Heights', 3.1),\n",
       " ('Garfield Hts', 3.0),\n",
       " ('Garrettsville', 5.0),\n",
       " ('Gastonia', 3.05625),\n",
       " ('Gates Mills', 3.5),\n",
       " ('Geauga', 4.0),\n",
       " ('Gelndale', 3.0),\n",
       " ('Georgetown', 2.9375),\n",
       " ('Gibsonia', 3.601769911504425),\n",
       " ('Gifford', 3.0),\n",
       " ('Gilbert', 3.616117850953206),\n",
       " ('Glassport', 3.8333333333333335),\n",
       " ('Glbert', 4.0),\n",
       " ('Glen Williams', 4.0),\n",
       " ('Glendale', 3.3618402483770815),\n",
       " ('Glendale Az', 3.0),\n",
       " ('Glenshaw', 3.3529411764705883),\n",
       " ('Godmanchester', 5.0),\n",
       " ('Goodwood', 3.5),\n",
       " ('Goodyear', 3.335672514619883),\n",
       " ('Gormley', 3.2),\n",
       " ('Grafton', 3.125),\n",
       " ('Grand Canyon', 5.0),\n",
       " ('Grand River', 3.0),\n",
       " ('Green Tree', 4.0),\n",
       " ('Green Valley', 4.0),\n",
       " ('Greenfield Park', 2.65),\n",
       " ('Greensboro', 4.0),\n",
       " ('Greenway', 5.0),\n",
       " ('Grove City', 4.0),\n",
       " ('Guadalupe', 3.84),\n",
       " ('HENDERSON', 4.375),\n",
       " ('Halton Hills', 2.9),\n",
       " ('Hamilton', 4.0),\n",
       " ('Hampstead', 2.0),\n",
       " ('Hampton Township', 3.769230769230769),\n",
       " ('Harmar Township', 4.0),\n",
       " ('Harmarville', 3.2),\n",
       " ('Harrisbug', 3.0),\n",
       " ('Harrisburg', 3.3495934959349594),\n",
       " ('Harrisburg,', 3.0),\n",
       " ('Harrison City', 3.142857142857143),\n",
       " ('Harwick', 4.0),\n",
       " ('Heidelberg', 3.5),\n",
       " ('Hemmingford', 4.0),\n",
       " ('Henderson', 3.5464022894521667),\n",
       " ('Henderson (Green Valley)', 2.0),\n",
       " ('Henderson Nevada', 5.0),\n",
       " ('Henderson and Las vegas', 4.0),\n",
       " ('Hendersonville', 3.0),\n",
       " ('Henderston', 4.0),\n",
       " ('Hendserson', 4.0),\n",
       " ('Henryville', 4.0),\n",
       " ('Herminie', 3.6),\n",
       " ('Highland Heights', 3.4473684210526314),\n",
       " ('Highland Hills', 1.6666666666666667),\n",
       " ('Highland Hts', 3.0),\n",
       " ('Highland Park', 2.0),\n",
       " ('Higley', 2.96),\n",
       " ('Hinckley', 3.3684210526315788),\n",
       " ('Hiram', 4.142857142857143),\n",
       " ('Hnederson', 3.0),\n",
       " ('Holland Landing', 2.75),\n",
       " ('Homer', 4.25),\n",
       " ('Homestead', 3.2521008403361344),\n",
       " ('Hudson', 3.399014778325123),\n",
       " ('Huntersville', 3.4384),\n",
       " ('Huntingdon', 4.0),\n",
       " ('Huntington Beach', 5.0),\n",
       " ('Huntsburg', 4.5),\n",
       " ('Hyland Heights', 3.0),\n",
       " ('INDIAN LAND', 4.0),\n",
       " ('Iberville', 4.0),\n",
       " ('Imperial', 3.4285714285714284),\n",
       " ('Independence', 3.090909090909091),\n",
       " ('Indian Land', 3.2266666666666666),\n",
       " ('Indian Land,', 3.0),\n",
       " ('Indian Trail', 3.441860465116279),\n",
       " ('Indian land', 3.0),\n",
       " ('Indianola', 4.0),\n",
       " ('Inglewood', 3.0),\n",
       " ('Ingomar', 4.0),\n",
       " ('Ingram', 4.0),\n",
       " ('Irwin', 3.2027027027027026),\n",
       " ('Ivesdale', 4.0),\n",
       " ('Jefferson Hills', 2.7857142857142856),\n",
       " ('Joliet', 3.0),\n",
       " ('Joliette', 3.8333333333333335),\n",
       " ('Kahnawake', 3.6),\n",
       " ('Kannapolis', 3.16),\n",
       " ('Kennedy Township', 3.6666666666666665),\n",
       " ('Kent', 3.236220472440945),\n",
       " ('Kettleby', 1.5),\n",
       " ('King', 3.4),\n",
       " ('King City', 3.15),\n",
       " ('Kirkland', 3.127659574468085),\n",
       " ('Kirtland', 3.7777777777777777),\n",
       " ('Kleinburg', 3.4444444444444446),\n",
       " (\"L'Assomption\", 3.0),\n",
       " (\"L'assomption\", 4.0),\n",
       " (\"L'ile-Bizard\", 4.5),\n",
       " (\"L'ile-Perrot\", 2.8),\n",
       " (\"L'Île-Bizard\", 3.5),\n",
       " (\"L'Île-Perrot\", 3.111111111111111),\n",
       " ('LAS VEGAS', 3.6842105263157894),\n",
       " ('LAVEEN', 4.0),\n",
       " ('La Prairie', 4.0),\n",
       " ('La Salle', 3.857142857142857),\n",
       " ('La Vegas', 2.5),\n",
       " ('LaGrange', 3.0),\n",
       " ('LaSalle', 3.210526315789474),\n",
       " ('Lachenaie', 3.5),\n",
       " ('Lachine', 3.185185185185185),\n",
       " ('Lachute', 3.7142857142857144),\n",
       " ('Lacolle', 4.0),\n",
       " ('Lagrange', 3.6),\n",
       " ('Lake Las Vegas', 2.0),\n",
       " ('Lake Mead', 4.0),\n",
       " ('Lake Norman', 1.0),\n",
       " ('Lake Park', 3.5),\n",
       " ('Lake Wylie', 3.4150943396226414),\n",
       " ('Lakewood', 3.5722543352601157),\n",
       " ('Lakewood, Oh', 5.0),\n",
       " ('Lancaster', 4.333333333333333),\n",
       " ('Las  Vegas', 4.0),\n",
       " ('Las Vegas', 3.479673135852911),\n",
       " ('Las Vegas ', 3.75),\n",
       " ('Las Vegas & Henderson', 3.0),\n",
       " ('Las Vegas East', 4.0),\n",
       " ('Las Vegas NV', 4.0),\n",
       " ('Las Vegas Nevada', 1.0),\n",
       " ('Las Vegas Nv', 4.0),\n",
       " ('Las Vegas Valley', 5.0),\n",
       " ('Las Vegas,', 5.0),\n",
       " ('Las Vegas, NV', 4.5),\n",
       " ('Las Vegass', 3.0),\n",
       " ('Las Vergas', 5.0),\n",
       " ('Las vegas', 3.857142857142857),\n",
       " ('LasVegas', 3.5),\n",
       " ('Lasalle', 3.164383561643836),\n",
       " ('Laval', 3.2411167512690353),\n",
       " ('Laval, Pont Viau', 3.0),\n",
       " ('Laval, Ste Dorothee', 5.0),\n",
       " ('Lavaltrie', 2.0),\n",
       " ('Laveen', 2.921259842519685),\n",
       " ('Laveen Village', 3.6),\n",
       " ('Lawrence', 4.0),\n",
       " ('Lawrenceville', 3.75),\n",
       " ('Le Haut-Saint-Laurent Regional County Municipality', 2.0),\n",
       " ('Le Sud-Ouest', 4.0),\n",
       " ('Leaside', 5.0),\n",
       " ('Leeds', 4.0),\n",
       " ('Leetsdale', 3.076923076923077),\n",
       " ('Les Coteaux', 5.0),\n",
       " ('Les Cèdres', 4.0),\n",
       " ('Leslieville', 4.0),\n",
       " ('Library', 3.0),\n",
       " ('Lindale', 3.0),\n",
       " ('Litchfield', 3.5454545454545454),\n",
       " ('Litchfield Park', 3.5),\n",
       " ('Litchfield park', 5.0),\n",
       " ('Locust', 2.8461538461538463),\n",
       " ('Lodi', 2.0),\n",
       " ('London', 4.0),\n",
       " ('Longueuil', 3.3846153846153846),\n",
       " ('Lorain', 3.1327433628318584),\n",
       " ('Los Angeles', 4.0),\n",
       " ('Los Vegas', 1.0),\n",
       " ('Lowell', 3.2857142857142856),\n",
       " ('Lower Burrell', 3.0),\n",
       " ('Lower Lawrenceville', 3.0),\n",
       " ('Lower burrell', 4.0),\n",
       " ('Lowesville', 3.5),\n",
       " ('Lufkin', 2.0),\n",
       " ('Lyndhurst', 3.23728813559322),\n",
       " ('Lynhurst', 5.0),\n",
       " ('MACEDONIA', 4.0),\n",
       " ('MADISON', 4.0),\n",
       " ('MATTHEWS', 2.0),\n",
       " ('MESA', 3.3333333333333335),\n",
       " ('MONROEVILLE', 3.0),\n",
       " ('Macedonia', 2.98989898989899),\n",
       " ('Madison', 3.382655981682885),\n",
       " ('Mahomet', 3.5),\n",
       " ('Malton', 2.5),\n",
       " ('Manchester', 2.0),\n",
       " ('Mansfield', 4.0),\n",
       " ('Mantua', 3.533333333333333),\n",
       " ('Maple', 3.016949152542373),\n",
       " ('Maple Grove', 4.0),\n",
       " ('Maple Heights', 2.8653846153846154),\n",
       " ('Maricopa', 1.0),\n",
       " ('Markham', 3.045300113250283),\n",
       " ('Markham, ON', 1.0),\n",
       " ('Marshall', 3.3333333333333335),\n",
       " ('Marvin', 4.333333333333333),\n",
       " ('Mascouche', 3.4),\n",
       " ('Mathews', 2.5),\n",
       " ('Mattews', 2.0),\n",
       " ('Matthews', 3.3444592790387184),\n",
       " ('Mayfield', 3.4444444444444446),\n",
       " ('Mayfield Heights', 3.0925925925925926),\n",
       " ('Mayfield Heights (Cleveland)', 4.0),\n",
       " ('Mayfield Heights.', 3.0),\n",
       " ('Mayfield Hts', 4.0),\n",
       " ('Mayfield Hts.', 3.0),\n",
       " ('Mayfield Village', 2.9),\n",
       " ('Mc Adenville', 3.0),\n",
       " ('Mc Donald', 3.142857142857143),\n",
       " ('Mc Farland', 3.193548387096774),\n",
       " ('Mc Kees Rocks', 3.2162162162162162),\n",
       " ('Mc Murray', 2.5),\n",
       " ('McAdenville', 3.75),\n",
       " ('McCandless', 3.6666666666666665),\n",
       " ('McCandless Township', 3.4285714285714284),\n",
       " ('McDonald', 3.6666666666666665),\n",
       " ('McFarland', 3.5714285714285716),\n",
       " ('McKees Rocks', 3.4150943396226414),\n",
       " ('McKeesRocks', 4.0),\n",
       " ('McKeesport', 3.3),\n",
       " ('McKnight', 2.0),\n",
       " ('McMasterville', 3.0),\n",
       " ('McMurray', 3.193548387096774),\n",
       " ('McMurry', 4.0),\n",
       " ('Mccandless Township', 4.0),\n",
       " ('Mcdonald', 4.0),\n",
       " ('Mcfarland', 3.6666666666666665),\n",
       " ('Mckees Rocks', 3.5555555555555554),\n",
       " ('Mckeesport', 3.375),\n",
       " ('Mcknight', 3.0),\n",
       " ('Mcmurray', 3.125),\n",
       " ('Median', 3.0),\n",
       " ('Medicine Hat', 3.0),\n",
       " ('Medina', 3.2614942528735633),\n",
       " ('Medina Township', 2.6666666666666665),\n",
       " ('Mentor', 3.1059322033898304),\n",
       " ('Mentor On The Lake', 3.5),\n",
       " ('Mentor On the', 3.5),\n",
       " ('Mentor On the Lake', 3.2),\n",
       " ('Mentor-On-The-Lake', 3.0),\n",
       " ('Mentor-on-the-Lake', 3.2222222222222223),\n",
       " ('Mercier', 4.5),\n",
       " ('Mesa', 3.414473684210526),\n",
       " ('Mesa AZ', 3.0),\n",
       " ('Mesa Arizona', 5.0),\n",
       " ('Metro Phoenix', 4.0),\n",
       " ('Middleburg', 2.0),\n",
       " ('Middleburg Heights', 3.1510791366906474),\n",
       " ('Middleburg Hts', 3.8333333333333335),\n",
       " ('Middleburg Hts.', 2.0),\n",
       " ('Middlefield', 3.392857142857143),\n",
       " ('Middleton', 3.352777777777778),\n",
       " ('Midland', 4.05),\n",
       " ('Midnapore', 3.0),\n",
       " ('Midway', 2.0),\n",
       " ('Milford', 1.0),\n",
       " ('Millvale', 4.052631578947368),\n",
       " ('Milton', 2.7857142857142856),\n",
       " ('Mint  Hill', 4.0),\n",
       " ('Mint Hill', 3.3181818181818183),\n",
       " ('Mirabel', 3.3333333333333335),\n",
       " ('Missisauga', 2.75),\n",
       " ('Mississagua', 2.0),\n",
       " ('Mississauaga', 5.0),\n",
       " ('Mississauga', 2.9897172236503855),\n",
       " ('Mississauge', 4.0),\n",
       " ('Mississaugua', 4.0),\n",
       " ('Mississuaga', 4.0),\n",
       " ('Monona', 3.3138686131386863),\n",
       " ('Monongahela', 2.875),\n",
       " ('Monoroeville', 3.0),\n",
       " ('Monreoville', 3.0),\n",
       " ('Monroe', 3.0171428571428573),\n",
       " ('Monroeville', 2.9875),\n",
       " ('Mont St-hilaire', 4.0),\n",
       " ('Mont-Royal', 3.064516129032258),\n",
       " ('Mont-Saint-Grégoire', 3.0),\n",
       " ('Mont-Saint-Hilaire', 3.4444444444444446),\n",
       " ('Monterey Park', 3.0),\n",
       " ('Montgomery', 4.0),\n",
       " ('Monticello', 3.361111111111111),\n",
       " ('Montral', 3.0),\n",
       " ('Montreal', 3.2549019607843137),\n",
       " ('Montreal-Est', 4.0),\n",
       " ('Montreal-Nord', 3.2857142857142856),\n",
       " ('Montreal-Ouest', 3.75),\n",
       " ('Montreal-Quest', 2.0),\n",
       " ('Montreal-West', 3.0),\n",
       " ('Montrose', 2.5),\n",
       " ('Montrèal', 3.0),\n",
       " ('Montréal', 3.4454954256473873),\n",
       " ('Montréal (Québec)', 4.0),\n",
       " ('Montréal-Est', 4.0),\n",
       " ('Montréal-Nord', 3.6666666666666665),\n",
       " ('Montréal-Ouest', 3.75),\n",
       " ('Montréal-West', 3.0),\n",
       " ('Montville', 5.0),\n",
       " ('Montéal', 3.0),\n",
       " ('Mooers', 5.0),\n",
       " ('Moon', 3.3333333333333335),\n",
       " ('Moon TWP', 4.0),\n",
       " ('Moon Township', 3.1702127659574466),\n",
       " ('Moon Twp', 4.0),\n",
       " ('Moon Twp.', 3.0),\n",
       " ('Mooresville', 3.533333333333333),\n",
       " ('Moreland Hills', 4.0),\n",
       " ('Morgan', 3.5),\n",
       " ('Morgan Hill', 4.0),\n",
       " ('Morin-Heights', 3.5),\n",
       " ('Moseley', 4.0),\n",
       " ('Mount Albert', 4.2),\n",
       " ('Mount Holly', 3.3333333333333335),\n",
       " ('Mount Horeb', 3.5384615384615383),\n",
       " ('Mount Lebanon', 3.466666666666667),\n",
       " ('Mount Oliver', 2.0),\n",
       " ('Mount Washington', 4.0),\n",
       " ('Mt Holly', 1.5),\n",
       " ('Mt Lebanon', 3.5),\n",
       " ('Mt. Holly', 2.5),\n",
       " ('Mt. Horeb', 5.0),\n",
       " ('Mt. Lebanon', 3.2857142857142856),\n",
       " ('Mt. Washington', 4.0),\n",
       " ('Munhall', 3.225806451612903),\n",
       " ('Munroe Falls', 3.55),\n",
       " ('Murrysville', 3.5045045045045047),\n",
       " ('Murrysville (Monroeville)', 4.0),\n",
       " ('N E Las Vegas', 4.0),\n",
       " ('N Las Vegas', 3.230769230769231),\n",
       " ('N Ridgeville', 1.6666666666666667),\n",
       " ('N Solon', 3.0),\n",
       " ('N W Las Vegas', 2.0),\n",
       " ('N. Las Vegas', 2.75),\n",
       " ('N. Olmsted', 3.5),\n",
       " ('N. Randall', 3.0),\n",
       " ('N. Ridgeville', 2.0),\n",
       " ('NELLIS AFB', 4.0),\n",
       " ('NEWMARKET', 1.0),\n",
       " ('NORTH LAS VEGAS', 4.0),\n",
       " ('NORTH YORK', 2.0),\n",
       " ('NULL', 2.0),\n",
       " ('Napierville', 3.5),\n",
       " ('Nationwide', 5.0),\n",
       " ('Nellis', 3.0),\n",
       " ('Nellis AFB', 3.125),\n",
       " ('Nellis Afb', 3.3333333333333335),\n",
       " ('Nellis Air Force Base', 3.5),\n",
       " ('Nevada', 5.0),\n",
       " ('Neville Island', 2.5),\n",
       " ('New Eagle', 3.5),\n",
       " ('New Glarus', 4.0),\n",
       " ('New Kensington', 3.308641975308642),\n",
       " ('New River', 5.0),\n",
       " ('New Tecumseth', 3.0),\n",
       " ('New York', 4.0),\n",
       " ('Newburgh Heights', 4.0),\n",
       " ('Newbury', 3.473684210526316),\n",
       " ('Newmarket', 3.1448863636363638),\n",
       " ('Nobleton', 3.3),\n",
       " ('North  Ridgeville', 4.0),\n",
       " ('North  York', 2.0),\n",
       " ('North Braddock', 3.0),\n",
       " ('North Carolina', 5.0),\n",
       " ('North Charlotte', 3.0),\n",
       " ('North Hills', 3.0),\n",
       " ('North Huntingdon', 3.3421052631578947),\n",
       " ('North Huntington', 2.5),\n",
       " ('North Las Vegas', 3.2260981912144704),\n",
       " ('North Las Vegas ', 3.0),\n",
       " ('North Olmstead', 3.0),\n",
       " ('North Olmsted', 3.128787878787879),\n",
       " ('North Olmsted,', 5.0),\n",
       " ('North Phoenix', 5.0),\n",
       " ('North Randall', 2.888888888888889),\n",
       " ('North Ridgeville', 3.329896907216495),\n",
       " ('North Royalton', 3.337579617834395),\n",
       " ('North Scottsdale', 4.0),\n",
       " ('North Strabane Township', 2.0),\n",
       " ('North Toronto', 3.0),\n",
       " ('North Versailles', 2.984126984126984),\n",
       " ('North York', 2.892116182572614),\n",
       " ('North of Brampton', 4.0),\n",
       " ('North york', 3.0),\n",
       " ('NorthYork', 3.0),\n",
       " ('Northeast Calgary', 5.0),\n",
       " ('Northfield', 3.3626373626373627),\n",
       " ('Northfield Center', 4.25),\n",
       " ('Northfield Center Township', 3.5),\n",
       " ('Northwest Calgary', 2.3333333333333335),\n",
       " ('Northyork', 3.0),\n",
       " ('Norton', 3.7),\n",
       " ('Norval', 2.0),\n",
       " (\"Notre-Dame-De-L'ile-Perrot\", 2.0),\n",
       " (\"Notre-Dame-de-l'Ile-Perrot\", 4.0),\n",
       " ('Nottingham Township', 5.0),\n",
       " ('Novelty', 4.2),\n",
       " ('Noyan', 4.5),\n",
       " (\"O'hara Township\", 5.0),\n",
       " ('Oak Ridges', 4.0),\n",
       " ('Oakdale', 3.375),\n",
       " ('Oakland', 3.25),\n",
       " ('Oakmont', 3.4814814814814814),\n",
       " ('Oakridges', 3.0),\n",
       " ('Oakville', 2.9060773480662982),\n",
       " ('Oakwood', 3.0),\n",
       " ('Oakwood Village', 3.25),\n",
       " ('Oakwood village', 5.0),\n",
       " ('Oberlin', 3.0),\n",
       " ('Ogden', 3.6666666666666665),\n",
       " ('Oka', 4.166666666666667),\n",
       " ('Old Brooklyn', 5.0),\n",
       " ('Old Port of Montreal', 3.0),\n",
       " ('Old Scottsdale', 3.0),\n",
       " ('Old Town Scottsdale', 4.5),\n",
       " ('Oldham', 4.0),\n",
       " ('Olmsted Falls', 3.6382978723404253),\n",
       " ('Olmsted Township', 2.8333333333333335),\n",
       " ('Omaha', 2.0),\n",
       " ('Orange', 3.25),\n",
       " ('Orange Village', 3.2),\n",
       " ('Oregon', 3.3815789473684212),\n",
       " ('Ormstown', 4.0),\n",
       " ('Oshawa', 2.0),\n",
       " ('Otterburn Park', 4.0),\n",
       " ('Outremont', 3.6578947368421053),\n",
       " ('PARMA HEIGHTS', 4.0),\n",
       " ('PEORIA', 4.0),\n",
       " ('PHOENIX', 2.8333333333333335),\n",
       " ('Pahrump', 4.0),\n",
       " ('Painesville', 3.212121212121212),\n",
       " ('Painesville Township', 5.0),\n",
       " ('Palgrave', 4.0),\n",
       " ('Paoli', 4.333333333333333),\n",
       " ('Paradise', 3.2083333333333335),\n",
       " ('Paradise Valley', 3.735294117647059),\n",
       " ('Parma', 3.2551724137931033),\n",
       " ('Parma Heights', 3.0434782608695654),\n",
       " ('Parma mid birth', 5.0),\n",
       " ('Pasadena', 5.0),\n",
       " ('Paw Creek', 3.0),\n",
       " ('Peninsul', 4.0),\n",
       " ('Peninsula', 3.793103448275862),\n",
       " ('Penn Hills', 3.090909090909091),\n",
       " ('Penn Hills Township', 3.0),\n",
       " ('Pennsylvania', 4.0),\n",
       " ('Peoria', 3.4653465346534653),\n",
       " ('Pepper Pike', 3.6315789473684212),\n",
       " ('Pepperpike', 3.0),\n",
       " ('Perry', 3.6666666666666665),\n",
       " ('Perry Twp', 3.0),\n",
       " ('Peters Township', 3.5),\n",
       " ('Pgh Int Arprt', 3.0),\n",
       " ('Pheonix', 3.6666666666666665),\n",
       " ('Pheonix AZ', 3.0),\n",
       " ('Philo', 3.3333333333333335),\n",
       " ('Phoeniix', 3.0),\n",
       " ('Phoenix', 3.434455930938932),\n",
       " ('Phoenix ', 1.0),\n",
       " ('Phoenix AZ', 3.0),\n",
       " ('Phoenix Metro Area', 5.0),\n",
       " ('Phoenix Valley', 2.0),\n",
       " ('Phoenix,', 4.0),\n",
       " ('Phoenix, AZ', 3.5),\n",
       " ('Phoenx', 5.0),\n",
       " ('Phoneix', 4.0),\n",
       " ('Phoniex', 4.0),\n",
       " ('Phx', 4.0),\n",
       " ('Pickering', 2.996932515337423),\n",
       " ('Pickering Ajax Whitby', 3.0),\n",
       " ('Piedmont', 3.0),\n",
       " ('Pierrefonds', 3.0),\n",
       " ('Pincourt', 2.5),\n",
       " ('Pine', 3.0),\n",
       " ('Pineville', 3.28080229226361),\n",
       " ('Pitcairn', 3.8),\n",
       " ('Pittsburch', 2.0),\n",
       " ('Pittsburg', 3.0),\n",
       " ('Pittsburgh', 3.370671227020094),\n",
       " ('Pittsburgh ', 2.0),\n",
       " ('Pleasant Hills', 3.25),\n",
       " ('Plum', 3.473684210526316),\n",
       " ('Plum Boro', 3.0),\n",
       " ('Point-Claire', 5.0),\n",
       " ('Pointe Claire', 2.6666666666666665),\n",
       " ('Pointe-Aux-Trembles', 3.2),\n",
       " ('Pointe-Calumet', 3.0),\n",
       " ('Pointe-Claire', 3.2254901960784315),\n",
       " ('Pointe-aux-Trembles', 3.0),\n",
       " ('Port Credit', 4.25),\n",
       " ('Port Vue', 4.0),\n",
       " ('Presto', 3.4),\n",
       " ('Promenade', 3.0),\n",
       " ('Prévost', 3.5),\n",
       " ('Puyallup', 2.0),\n",
       " ('QUEEN CREEK', 5.0),\n",
       " ('Quartier des Spectacles', 4.0),\n",
       " ('Queen Creek', 3.65),\n",
       " ('Queen creek', 3.0),\n",
       " ('Queensville', 2.0),\n",
       " ('Québec', 2.0),\n",
       " ('RIchmond Hill', 2.0),\n",
       " ('Rainbow Valley', 5.0),\n",
       " ('Rankin', 3.0),\n",
       " ('Ranlo', 4.0),\n",
       " ('Rantoul', 2.94),\n",
       " ('Ravenna', 3.7857142857142856),\n",
       " ('Rawdon', 4.0),\n",
       " ('Red Mountain', 2.0),\n",
       " ('Red Rock', 4.0),\n",
       " ('Regent Square', 3.0),\n",
       " ('Regional Municipality of York', 4.0),\n",
       " ('Reminderville', 4.0),\n",
       " ('Repentigny', 4.0),\n",
       " ('Rexdale', 2.6),\n",
       " ('Richfield', 3.3555555555555556),\n",
       " ('Richland Township', 4.0),\n",
       " ('Richmond Height', 2.0),\n",
       " ('Richmond Heights', 2.962962962962963),\n",
       " ('Richmond Hil', 3.0),\n",
       " ('Richmond Hill', 2.9376218323586745),\n",
       " ('Richmond Hts', 4.0),\n",
       " ('Richmonhill', 4.0),\n",
       " ('Rigaud', 3.75),\n",
       " ('Rillton', 5.0),\n",
       " ('Rio Verde', 3.4),\n",
       " ('River Drive Park', 4.0),\n",
       " ('Robinson', 2.727272727272727),\n",
       " ('Robinson Township', 3.1363636363636362),\n",
       " ('Robinson Twp.', 4.0),\n",
       " ('Rock Hill', 3.1543408360128615),\n",
       " ('Rock Hill SC', 3.0),\n",
       " ('Rockey View', 3.0),\n",
       " ('Rocky River', 3.4489795918367347),\n",
       " ('Rocky View', 2.8),\n",
       " ('Rocky View County', 2.7777777777777777),\n",
       " ('Rocky View No. 44', 2.75),\n",
       " ('Rocky river', 3.0),\n",
       " ('Rockyview', 2.0),\n",
       " ('Rockyview County', 2.0),\n",
       " ('Rosemere', 3.25),\n",
       " ('Rosemère', 3.1666666666666665),\n",
       " ('Ross', 4.0),\n",
       " ('Ross Township', 3.2857142857142856),\n",
       " ('Rostraver', 4.0),\n",
       " ('Rougemont', 5.0),\n",
       " ('Rouses Point', 3.142857142857143),\n",
       " ('Roxboro', 2.5),\n",
       " ('Rural Ridge', 5.0),\n",
       " ('Russell Twp', 4.0),\n",
       " ('Russellton', 3.5),\n",
       " ('S Concord', 3.0),\n",
       " ('SCARBOROUGH', 4.0),\n",
       " ('SCOTTSDALE', 4.666666666666667),\n",
       " ('SUN PRAIRIE', 5.0),\n",
       " ('SURPRISE', 4.0),\n",
       " ('SW Calgary', 3.0),\n",
       " ('Sacramento', 1.0),\n",
       " ('Sagamore Hills', 3.3333333333333335),\n",
       " ('Sage Hill', 2.0),\n",
       " ('Saint - Hyacinthe', 4.0),\n",
       " ('Saint Joseph', 3.4705882352941178),\n",
       " ('Saint Laurent', 3.0),\n",
       " ('Saint Leonard', 3.0),\n",
       " ('Saint-Basile-Le-Grand', 3.0),\n",
       " ('Saint-Basile-le-Grand', 3.0),\n",
       " ('Saint-Bernard de Lacolle', 3.0),\n",
       " ('Saint-Bernard-de-Lacolle', 2.6666666666666665),\n",
       " ('Saint-Bruno', 3.5),\n",
       " ('Saint-Bruno-de-Montarville', 3.6666666666666665),\n",
       " ('Saint-Charles-Borromee', 3.0),\n",
       " ('Saint-Constant', 3.6666666666666665),\n",
       " ('Saint-Eustache', 3.8947368421052633),\n",
       " ('Saint-Henri', 3.0),\n",
       " ('Saint-Hippolyte', 3.5),\n",
       " ('Saint-Hubert', 3.6956521739130435),\n",
       " ('Saint-Hyacinthe', 3.727272727272727),\n",
       " ('Saint-Isidore-de-Laprairie', 3.0),\n",
       " ('Saint-Jean-Sur-Richelieu', 4.0),\n",
       " ('Saint-Jean-sur-Richelieu', 3.774193548387097),\n",
       " ('Saint-Jerome', 3.3333333333333335),\n",
       " ('Saint-Jérôme', 3.611111111111111),\n",
       " ('Saint-Lambert', 3.6363636363636362),\n",
       " ('Saint-Laurent', 2.911764705882353),\n",
       " ('Saint-Lazare', 3.5),\n",
       " ('Saint-Leonard', 2.8125),\n",
       " ('Saint-Léonard', 2.875),\n",
       " ('Saint-Marc-sur-Richelieu', 4.0),\n",
       " ('Saint-Philippe', 4.0),\n",
       " ('Saint-Pie', 4.0),\n",
       " ('Saint-Pierre-de-Véronne-à-Pike-River', 5.0),\n",
       " (\"Saint-Roch-de-l'Achigan\", 4.0),\n",
       " ('Saint-Sauveur', 3.28),\n",
       " ('Saint-Sauveur-des-Monts', 2.5),\n",
       " ('Saint-laurent', 4.0),\n",
       " ('Sainte-Adele', 3.7777777777777777),\n",
       " ('Sainte-Adèle', 3.625),\n",
       " ('Sainte-Anne-De-Bellevue', 2.875),\n",
       " ('Sainte-Anne-de-Bellevue', 3.5294117647058822),\n",
       " ('Sainte-Anne-des-Plaines', 3.5),\n",
       " ('Sainte-Catherine', 3.0),\n",
       " ('Sainte-Dorothée', 2.0),\n",
       " ('Sainte-Genevieve', 3.0),\n",
       " ('Sainte-Geneviève', 3.0),\n",
       " ('Sainte-Julie', 3.0),\n",
       " ('Sainte-Madeleine', 4.0),\n",
       " ('Sainte-Marguerite-Esterel', 3.0),\n",
       " ('Sainte-Marguerite-du-Lac-Masson', 4.0),\n",
       " ('Sainte-Marguerite-du-lac-Masson', 5.0),\n",
       " ('Sainte-Marthe', 5.0),\n",
       " ('Sainte-Rose', 3.0),\n",
       " ('Sainte-Therese', 2.3333333333333335),\n",
       " ('Sainte-Thérèse', 3.727272727272727),\n",
       " ('Sainte-Thérèse-de-Blainville', 4.0),\n",
       " ('Sainte-thérèse', 4.0),\n",
       " ('Saintt-Bruno-de-Montarville', 5.0),\n",
       " ('Salaberry-De-Valleyfield', 4.0),\n",
       " ('Salaberry-de-Valleyfield', 3.6666666666666665),\n",
       " ('Sale', 4.0),\n",
       " ('San Diego', 1.0),\n",
       " ('San Tan', 1.0),\n",
       " ('San Tan Valley', 4.5),\n",
       " ('Sandy Ridge', 3.0),\n",
       " ('Sauk City', 3.5),\n",
       " ('Savoy', 3.329113924050633),\n",
       " ('Scarborough', 2.9483227561196736),\n",
       " ('Scarbrough', 2.5),\n",
       " ('Scarobrough', 4.0),\n",
       " ('Schaumburg', 1.0),\n",
       " ('Schomberg', 3.3),\n",
       " ('Schottsdale', 3.0),\n",
       " ('Scotesdale', 5.0),\n",
       " ('Scotsdale', 5.0),\n",
       " ('Scottadale', 5.0),\n",
       " ('Scottdale', 4.0),\n",
       " ('Scottsale', 5.0),\n",
       " ('Scottsdale', 3.7268303722982914),\n",
       " ('Scottsdale, AZ', 5.0),\n",
       " ('Seattle', 5.0),\n",
       " ('Sedona', 3.0),\n",
       " ('Seven Hills', 3.323529411764706),\n",
       " ('Sewickley', 3.617391304347826),\n",
       " ('Shady Side', 5.0),\n",
       " ('Shadyside', 3.75),\n",
       " ('Shaker Heights', 3.378787878787879),\n",
       " ('Shaker Hts', 2.5),\n",
       " ('Shaler', 3.0),\n",
       " ('Shaler Township', 4.0),\n",
       " ('Sharon', 4.0),\n",
       " ('Sharpsburg', 3.3333333333333335),\n",
       " ('Sheffield', 3.6363636363636362),\n",
       " ('Sheffield Lake', 3.2857142857142856),\n",
       " ('Sheffield Village', 3.103448275862069),\n",
       " ('Shorewood Hills', 3.0),\n",
       " ('Side Slopes', 3.0),\n",
       " ('Sidney', 3.6666666666666665),\n",
       " ('Silver Lake', 3.5),\n",
       " ('Snowflake', 1.0),\n",
       " ('Solon', 3.1839622641509435),\n",
       " ('Somerton', 4.0),\n",
       " ('South Amherst', 4.0),\n",
       " ('South Charlotte', 5.0),\n",
       " ('South Euclid', 3.1265822784810124),\n",
       " ('South Hills', 4.0),\n",
       " ('South Las Vegas', 3.75),\n",
       " ('South Park', 3.3636363636363638),\n",
       " ('South Park Township', 3.625),\n",
       " ('South Russell', 5.0),\n",
       " ('Southeast Calgary', 3.6666666666666665),\n",
       " ('Southside Flats', 5.0),\n",
       " ('Spartanburg', 1.0),\n",
       " ('Spring Hill City View', 4.0),\n",
       " ('Spring Valley', 3.2222222222222223),\n",
       " ('Springdale', 3.6923076923076925),\n",
       " ('Squirrel Hill', 3.3333333333333335),\n",
       " ('St Joseph', 4.0),\n",
       " ('St Leonard', 3.0),\n",
       " ...]"
      ]
     },
     "execution_count": 156,
     "metadata": {},
     "output_type": "execute_result"
    }
   ],
   "source": [
    "avg_rating_by_city.collect()"
   ]
  },
  {
   "cell_type": "markdown",
   "metadata": {},
   "source": [
    "### b) Top 10 most frequent categories"
   ]
  },
  {
   "cell_type": "code",
   "execution_count": 152,
   "metadata": {},
   "outputs": [],
   "source": [
    "top_categories = businesses.flatMap(lambda row: row[10].split(',')) \\\n",
    "    .map(lambda row: (row.strip(), 1)) \\\n",
    "    .reduceByKey(lambda x, y: x + y) \\\n",
    "    .sortBy(lambda row: row[1], ascending=False)"
   ]
  },
  {
   "cell_type": "code",
   "execution_count": 153,
   "metadata": {},
   "outputs": [
    {
     "data": {
      "text/plain": [
       "[('Restaurants', 59371),\n",
       " ('Shopping', 31878),\n",
       " ('Food', 29989),\n",
       " ('Home Services', 19729),\n",
       " ('Beauty & Spas', 19370),\n",
       " ('Health & Medical', 17171),\n",
       " ('Local Services', 13932),\n",
       " ('Automotive', 13203),\n",
       " ('Nightlife', 13095),\n",
       " ('Bars', 11341)]"
      ]
     },
     "execution_count": 153,
     "metadata": {},
     "output_type": "execute_result"
    }
   ],
   "source": [
    "top_categories.take(10)"
   ]
  },
  {
   "cell_type": "markdown",
   "metadata": {},
   "source": [
    "### c) Geographical centroid"
   ]
  },
  {
   "cell_type": "code",
   "execution_count": 150,
   "metadata": {},
   "outputs": [],
   "source": [
    "pc_centroids = businesses.map(lambda row: (row[5], (1, float(row[6]), float(row[7])))) \\\n",
    "    .reduceByKey(lambda x, y: (x[0] + y[0], x[1] + y[1], x[2] + y[2])) \\\n",
    "    .map(lambda row: (row[0], (row[1][1] / row[1][0], row[1][2] / row[1][0])))"
   ]
  },
  {
   "cell_type": "code",
   "execution_count": 151,
   "metadata": {},
   "outputs": [
    {
     "data": {
      "text/plain": [
       "[('L4B 3P7', (43.84119090909091, -79.39952727272727)),\n",
       " ('85234', (33.368083565107476, -111.76009355246526)),\n",
       " ('89109', (36.11986979655711, -115.16799718309893)),\n",
       " ('85283', (33.369426519337, -111.93189088397787)),\n",
       " ('85281', (33.4254004230566, -111.92886144896912))]"
      ]
     },
     "execution_count": 151,
     "metadata": {},
     "output_type": "execute_result"
    }
   ],
   "source": [
    "pc_centroids.take(5)"
   ]
  },
  {
   "cell_type": "markdown",
   "metadata": {},
   "source": [
    "## Task 4"
   ]
  },
  {
   "cell_type": "markdown",
   "metadata": {},
   "source": [
    "### a) Top in and out degrees"
   ]
  },
  {
   "cell_type": "code",
   "execution_count": 164,
   "metadata": {},
   "outputs": [],
   "source": [
    "in_out_degrees = friendships.flatMap(lambda row: [(row[0], (0, 1)), (row[1], (1, 0))]) \\\n",
    "        .reduceByKey(lambda x, y: (x[0] + y[0], x[1] + y[1]))"
   ]
  },
  {
   "cell_type": "code",
   "execution_count": 167,
   "metadata": {},
   "outputs": [],
   "source": [
    "top_in = in_out_degrees.map(lambda row: (row[0], row[1][0])) \\\n",
    "    .sortBy(lambda row: row[1], ascending=False)"
   ]
  },
  {
   "cell_type": "code",
   "execution_count": 168,
   "metadata": {},
   "outputs": [
    {
     "data": {
      "text/plain": [
       "[('8DEyKVyplnOcSKx39vatbg', 4919),\n",
       " ('ZIOCmdFaMIF56FR-nWr_2A', 4597),\n",
       " ('YttDgOC9AlM4HcAlDsbB2A', 4222),\n",
       " ('djxnI8Ux8ZYQJhiOQkrRhA', 4211),\n",
       " ('F_5_UNX-wrAFCXuAkBZRDw', 3943),\n",
       " ('dIIKEfOgo0KqUfGQvGikPg', 3651),\n",
       " ('GGTF7hnQi6D5W77_qiKlqg', 3609),\n",
       " ('NfU0zDaTMEQ4-X9dbQWd9A', 3557),\n",
       " ('3gRfkaVcEWri-Ju7OQX7uQ', 3396),\n",
       " ('NhgU7RhuYYFmpkb1jlYJ6Q', 3330)]"
      ]
     },
     "execution_count": 168,
     "metadata": {},
     "output_type": "execute_result"
    }
   ],
   "source": [
    "top_in.take(10)"
   ]
  },
  {
   "cell_type": "code",
   "execution_count": 169,
   "metadata": {},
   "outputs": [],
   "source": [
    "top_out = in_out_degrees.map(lambda row: (row[0], row[1][1])) \\\n",
    "    .sortBy(lambda row: row[1], ascending=False)"
   ]
  },
  {
   "cell_type": "code",
   "execution_count": 170,
   "metadata": {},
   "outputs": [
    {
     "data": {
      "text/plain": [
       "[('ZIOCmdFaMIF56FR-nWr_2A', 9564),\n",
       " ('F_5_UNX-wrAFCXuAkBZRDw', 8586),\n",
       " ('djxnI8Ux8ZYQJhiOQkrRhA', 8381),\n",
       " ('YttDgOC9AlM4HcAlDsbB2A', 6758),\n",
       " ('NfU0zDaTMEQ4-X9dbQWd9A', 6506),\n",
       " ('dIIKEfOgo0KqUfGQvGikPg', 6187),\n",
       " ('ACUVZ4SiN0gni7dzVDm9EQ', 6065),\n",
       " ('8DEyKVyplnOcSKx39vatbg', 6026),\n",
       " ('w-w-k-QXosIKQ8HQVwU6IQ', 5987),\n",
       " ('Thc2zV-K-KLcvJn3fMPdqQ', 5821)]"
      ]
     },
     "execution_count": 170,
     "metadata": {},
     "output_type": "execute_result"
    }
   ],
   "source": [
    "top_out.take(10)"
   ]
  },
  {
   "cell_type": "markdown",
   "metadata": {},
   "source": [
    "### b) Mean and median in and out degrees"
   ]
  },
  {
   "cell_type": "code",
   "execution_count": 173,
   "metadata": {},
   "outputs": [],
   "source": [
    "mean_in = in_out_degrees.map(lambda row: row[1][0]).mean()\n",
    "mean_out = in_out_degrees.map(lambda row: row[1][1]).mean()"
   ]
  },
  {
   "cell_type": "code",
   "execution_count": 174,
   "metadata": {},
   "outputs": [
    {
     "data": {
      "text/plain": [
       "3.863660734395157"
      ]
     },
     "execution_count": 174,
     "metadata": {},
     "output_type": "execute_result"
    }
   ],
   "source": [
    "mean_in"
   ]
  },
  {
   "cell_type": "code",
   "execution_count": 175,
   "metadata": {},
   "outputs": [
    {
     "data": {
      "text/plain": [
       "3.863660734395106"
      ]
     },
     "execution_count": 175,
     "metadata": {},
     "output_type": "execute_result"
    }
   ],
   "source": [
    "mean_out"
   ]
  },
  {
   "cell_type": "code",
   "execution_count": 197,
   "metadata": {},
   "outputs": [],
   "source": [
    "count = in_out_degrees.count()\n",
    "\n",
    "top_in = in_out_degrees.map(lambda row: row[1][0]) \\\n",
    "    .sortBy(lambda row: row, ascending=False) \\\n",
    "    .zipWithIndex() \\\n",
    "    .map(lambda row: (row[1], row[0]))\n",
    "\n",
    "top_out = in_out_degrees.map(lambda row: row[1][1]) \\\n",
    "    .sortBy(lambda row: row, ascending=False) \\\n",
    "    .zipWithIndex() \\\n",
    "    .map(lambda row: (row[1], row[0]))\n",
    "\n",
    "if count % 2 == 0:\n",
    "    l = count // 2\n",
    "    r = l + 1\n",
    "    median_in = (top_in.lookup(l)[0] + top_in.lookup(r)[0]) / 2\n",
    "    median_out = (top_out.lookup(l)[0] + top_out.lookup(r)[0]) / 2\n",
    "else:\n",
    "    mid = count // 2\n",
    "    median_in = top_in.lookup(mid)[0]\n",
    "    median_out = top_out.lookup(mid)[0]"
   ]
  },
  {
   "cell_type": "code",
   "execution_count": 199,
   "metadata": {},
   "outputs": [
    {
     "data": {
      "text/plain": [
       "1"
      ]
     },
     "execution_count": 199,
     "metadata": {},
     "output_type": "execute_result"
    }
   ],
   "source": [
    "median_in"
   ]
  },
  {
   "cell_type": "code",
   "execution_count": 200,
   "metadata": {},
   "outputs": [
    {
     "data": {
      "text/plain": [
       "0"
      ]
     },
     "execution_count": 200,
     "metadata": {},
     "output_type": "execute_result"
    }
   ],
   "source": [
    "median_out"
   ]
  }
 ],
 "metadata": {
  "kernelspec": {
   "display_name": "Python 3",
   "language": "python",
   "name": "python3"
  },
  "language_info": {
   "codemirror_mode": {
    "name": "ipython",
    "version": 3
   },
   "file_extension": ".py",
   "mimetype": "text/x-python",
   "name": "python",
   "nbconvert_exporter": "python",
   "pygments_lexer": "ipython3",
   "version": "3.6.9"
  }
 },
 "nbformat": 4,
 "nbformat_minor": 4
}
