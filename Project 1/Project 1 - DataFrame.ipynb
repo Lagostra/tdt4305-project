{
 "cells": [
  {
   "cell_type": "markdown",
   "metadata": {},
   "source": [
    "# TDT4305 Project 1 - DataFrame Tasks"
   ]
  },
  {
   "cell_type": "markdown",
   "metadata": {},
   "source": [
    "## Task 5"
   ]
  },
  {
   "cell_type": "code",
   "execution_count": 18,
   "metadata": {},
   "outputs": [],
   "source": [
    "reviews = spark.read.format('csv').option('delimiter', '\\t').option('header', 'true')\\\n",
    "    .load('data/yelp_top_reviewers_with_reviews.csv')\n",
    "businesses = spark.read.format('csv').option('delimiter', '\\t').option('header', 'true')\\\n",
    "    .load('data/yelp_businesses.csv')\n",
    "friendships = spark.read.csv('data/yelp_top_users_friendship_graph.csv', header='true')"
   ]
  },
  {
   "cell_type": "code",
   "execution_count": 20,
   "metadata": {},
   "outputs": [],
   "source": [
    "reviews.createTempView('reviews')\n",
    "businesses.createTempView('businesses')\n",
    "friendships.createTempView('friendships')"
   ]
  },
  {
   "cell_type": "code",
   "execution_count": 25,
   "metadata": {},
   "outputs": [
    {
     "name": "stdout",
     "output_type": "stream",
     "text": [
      "root\n",
      " |-- review_id: string (nullable = true)\n",
      " |-- user_id: string (nullable = true)\n",
      " |-- business_id: string (nullable = true)\n",
      " |-- review_text: string (nullable = true)\n",
      " |-- review_date: string (nullable = true)\n",
      "\n"
     ]
    }
   ],
   "source": [
    "reviews.printSchema()"
   ]
  },
  {
   "cell_type": "code",
   "execution_count": 26,
   "metadata": {},
   "outputs": [
    {
     "name": "stdout",
     "output_type": "stream",
     "text": [
      "root\n",
      " |-- business_id: string (nullable = true)\n",
      " |-- name: string (nullable = true)\n",
      " |-- address: string (nullable = true)\n",
      " |-- city: string (nullable = true)\n",
      " |-- state: string (nullable = true)\n",
      " |-- postal_code: string (nullable = true)\n",
      " |-- latitude: string (nullable = true)\n",
      " |-- longitude: string (nullable = true)\n",
      " |-- stars: string (nullable = true)\n",
      " |-- review_count: string (nullable = true)\n",
      " |-- categories: string (nullable = true)\n",
      "\n"
     ]
    }
   ],
   "source": [
    "businesses.printSchema()"
   ]
  },
  {
   "cell_type": "code",
   "execution_count": 27,
   "metadata": {},
   "outputs": [
    {
     "name": "stdout",
     "output_type": "stream",
     "text": [
      "root\n",
      " |-- src_user_id: string (nullable = true)\n",
      " |-- dst_user_id: string (nullable = true)\n",
      "\n"
     ]
    }
   ],
   "source": [
    "friendships.printSchema()"
   ]
  },
  {
   "cell_type": "markdown",
   "metadata": {},
   "source": [
    "## Task 6"
   ]
  },
  {
   "cell_type": "code",
   "execution_count": 29,
   "metadata": {},
   "outputs": [],
   "source": [
    "spark.sql('SELECT * FROM reviews INNER JOIN businesses ON reviews.business_id = businesses.business_id') \\\n",
    "    .createTempView('business_review')"
   ]
  },
  {
   "cell_type": "code",
   "execution_count": 31,
   "metadata": {},
   "outputs": [
    {
     "name": "stdout",
     "output_type": "stream",
     "text": [
      "+--------------------+--------------------+--------------------+--------------------+-----------------+--------------------+--------------------+--------------------+---------+-----+-----------+--------+---------+-----+------------+--------------------+\n",
      "|           review_id|             user_id|         business_id|         review_text|      review_date|         business_id|                name|             address|     city|state|postal_code|latitude|longitude|stars|review_count|          categories|\n",
      "+--------------------+--------------------+--------------------+--------------------+-----------------+--------------------+--------------------+--------------------+---------+-----+-----------+--------+---------+-----+------------+--------------------+\n",
      "|v8QPs6AaixrqXvC5r...|---1lKK3aKOuomHnw...|--9e1ONYQuAa-CB_R...|U28gd2hlbiB5b3UgZ...|1226374805.000000|--9e1ONYQuAa-CB_R...|Delmonico Steakhouse|3355 Las Vegas Bl...|Las Vegas|   NV|      89109| 36.1232| -115.169|    4|        1613|Cajun/Creole, Sea...|\n",
      "|PJLBGBr2IU4rN4RTd...|-fQPzH-e-ubDIiLQh...|--9e1ONYQuAa-CB_R...|NC41IFN0YXJzIApEZ...|1226456800.000000|--9e1ONYQuAa-CB_R...|Delmonico Steakhouse|3355 Las Vegas Bl...|Las Vegas|   NV|      89109| 36.1232| -115.169|    4|        1613|Cajun/Creole, Sea...|\n",
      "|XC64r62vBt6G3IuVc...|-k5yFUChotBMGQgHd...|--9e1ONYQuAa-CB_R...|SWYgSSBoYWQgdG8gY...|1245393745.000000|--9e1ONYQuAa-CB_R...|Delmonico Steakhouse|3355 Las Vegas Bl...|Las Vegas|   NV|      89109| 36.1232| -115.169|    4|        1613|Cajun/Creole, Sea...|\n",
      "|vyaZbtXU6GxrCV96C...|-lh59ko3dxChBSZ9U...|--9e1ONYQuAa-CB_R...|QWxsIHRoZSB5ZWFyc...|1452085062.000000|--9e1ONYQuAa-CB_R...|Delmonico Steakhouse|3355 Las Vegas Bl...|Las Vegas|   NV|      89109| 36.1232| -115.169|    4|        1613|Cajun/Creole, Sea...|\n",
      "|mkZT8o94sZg8Oq8br...|0nqshyLgABOSyTfJU...|--9e1ONYQuAa-CB_R...|SSBkaWQgdGhlIDIwM...|1346384600.000000|--9e1ONYQuAa-CB_R...|Delmonico Steakhouse|3355 Las Vegas Bl...|Las Vegas|   NV|      89109| 36.1232| -115.169|    4|        1613|Cajun/Creole, Sea...|\n",
      "+--------------------+--------------------+--------------------+--------------------+-----------------+--------------------+--------------------+--------------------+---------+-----+-----------+--------+---------+-----+------------+--------------------+\n",
      "\n"
     ]
    }
   ],
   "source": [
    "spark.sql('SELECT * FROM business_review LIMIT 5').show()"
   ]
  },
  {
   "cell_type": "code",
   "execution_count": 37,
   "metadata": {},
   "outputs": [
    {
     "name": "stdout",
     "output_type": "stream",
     "text": [
      "+--------------------+----------+\n",
      "|             user_id|no_reviews|\n",
      "+--------------------+----------+\n",
      "|CxDOIDnH8gp9KXzpB...|      4129|\n",
      "|bLbSNkLggFnqwNNzz...|      2354|\n",
      "|PKEzKWv_FktMm2mGP...|      1822|\n",
      "|ELcQDlf69kb-ihJfx...|      1764|\n",
      "|DK57YibC5ShBmqQl9...|      1727|\n",
      "|U4INQZOPSUaj8hMjL...|      1559|\n",
      "|QJI9OSEn6ujRCtrX0...|      1496|\n",
      "|d_TBs6J3twMy9GChq...|      1360|\n",
      "|hWDybu_KvYLSdEFzG...|      1355|\n",
      "|cMEtAiW60I5wE_vLf...|      1255|\n",
      "|YRcaNlwQ6XXPFDXWt...|      1234|\n",
      "|62GNFh5FySkA3MbrQ...|      1199|\n",
      "|dIIKEfOgo0KqUfGQv...|      1198|\n",
      "|UYcmGbelzRa0Q6Jqz...|      1196|\n",
      "|n86B7IkbU20AkxlFX...|      1152|\n",
      "|rCWrxuRC8_pfagpch...|      1148|\n",
      "|3nDUQBjKyVor5wV0r...|      1106|\n",
      "|iDlkZO2iILS8Jwfdy...|      1088|\n",
      "|U5YQX_vMl_xQy8EQD...|      1024|\n",
      "|0BBUmH7Krcax1RZgb...|      1018|\n",
      "+--------------------+----------+\n",
      "\n"
     ]
    }
   ],
   "source": [
    "user_no_reviews = spark.sql('SELECT user_id, count(user_id) AS no_reviews ' +\n",
    "                            'FROM reviews GROUP BY user_id ORDER BY no_reviews DESC ' + \n",
    "                            'LIMIT 20')\n",
    "user_no_reviews.show()"
   ]
  }
 ],
 "metadata": {
  "kernelspec": {
   "display_name": "Python 3",
   "language": "python",
   "name": "python3"
  },
  "language_info": {
   "codemirror_mode": {
    "name": "ipython",
    "version": 3
   },
   "file_extension": ".py",
   "mimetype": "text/x-python",
   "name": "python",
   "nbconvert_exporter": "python",
   "pygments_lexer": "ipython3",
   "version": "3.6.9"
  }
 },
 "nbformat": 4,
 "nbformat_minor": 4
}
