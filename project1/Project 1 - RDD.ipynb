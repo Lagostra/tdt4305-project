{
 "cells": [
  {
   "cell_type": "markdown",
   "metadata": {},
   "source": [
    "# TDT4305 Project 1 - RDD Tasks"
   ]
  },
  {
   "cell_type": "code",
   "execution_count": 1,
   "metadata": {},
   "outputs": [],
   "source": [
    "from datetime import datetime\n",
    "from base64 import b64decode"
   ]
  },
  {
   "cell_type": "markdown",
   "metadata": {},
   "source": [
    "## Loading data files"
   ]
  },
  {
   "cell_type": "code",
   "execution_count": 2,
   "metadata": {},
   "outputs": [],
   "source": [
    "reviews = sc.textFile('../data/yelp_top_reviewers_with_reviews.csv') \\\n",
    "    .zipWithIndex() \\\n",
    "    .filter(lambda x: x[1] > 0) \\\n",
    "    .map(lambda x: x[0].replace('\"', '').split('\\t'))\n",
    "# \"review_id\",\"user_id\",\"business_id\",\"review_text\",\"review_date\""
   ]
  },
  {
   "cell_type": "code",
   "execution_count": 3,
   "metadata": {},
   "outputs": [],
   "source": [
    "businesses = sc.textFile('../data/yelp_businesses.csv') \\\n",
    "    .zipWithIndex() \\\n",
    "    .filter(lambda x: x[1] > 0) \\\n",
    "    .map(lambda x: x[0].replace('\"', '').split('\\t'))\n",
    "# \"business_id\",\"name\",\"address\",\"city\",\"state\",\"postal_code\",\n",
    "# \"latitude\",\"longitude\",\"stars\",\"review_count\",\"categories\""
   ]
  },
  {
   "cell_type": "code",
   "execution_count": 4,
   "metadata": {},
   "outputs": [],
   "source": [
    "friendships = sc.textFile('../data/yelp_top_users_friendship_graph.csv') \\\n",
    "    .zipWithIndex() \\\n",
    "    .filter(lambda x: x[1] > 0) \\\n",
    "    .map(lambda x: x[0].replace('\"', '').split(','))\n",
    "# \"src_user_id\",\"dst_user_id\""
   ]
  },
  {
   "cell_type": "markdown",
   "metadata": {},
   "source": [
    "## Task 1"
   ]
  },
  {
   "cell_type": "markdown",
   "metadata": {},
   "source": [
    "### Counting number of rows"
   ]
  },
  {
   "cell_type": "code",
   "execution_count": 26,
   "metadata": {},
   "outputs": [],
   "source": [
    "review_count = reviews.count()\n",
    "business_count = businesses.count()\n",
    "friendship_count = friendships.count()"
   ]
  },
  {
   "cell_type": "code",
   "execution_count": 27,
   "metadata": {},
   "outputs": [
    {
     "data": {
      "text/plain": [
       "883737"
      ]
     },
     "execution_count": 27,
     "metadata": {},
     "output_type": "execute_result"
    }
   ],
   "source": [
    "review_count"
   ]
  },
  {
   "cell_type": "code",
   "execution_count": 28,
   "metadata": {},
   "outputs": [
    {
     "data": {
      "text/plain": [
       "192609"
      ]
     },
     "execution_count": 28,
     "metadata": {},
     "output_type": "execute_result"
    }
   ],
   "source": [
    "business_count"
   ]
  },
  {
   "cell_type": "code",
   "execution_count": 29,
   "metadata": {},
   "outputs": [
    {
     "data": {
      "text/plain": [
       "1938472"
      ]
     },
     "execution_count": 29,
     "metadata": {},
     "output_type": "execute_result"
    }
   ],
   "source": [
    "friendship_count"
   ]
  },
  {
   "cell_type": "code",
   "execution_count": null,
   "metadata": {},
   "outputs": [],
   "source": [
    "with open('solutions/task1.csv', 'w') as f:\n",
    "    f.write(f'review_count, business_count, friendship_count\\n{review_count}, {business_count}, {friendship_count}')"
   ]
  },
  {
   "cell_type": "markdown",
   "metadata": {},
   "source": [
    "## Task 2"
   ]
  },
  {
   "cell_type": "markdown",
   "metadata": {},
   "source": [
    "### a) Finding number of distinct users"
   ]
  },
  {
   "cell_type": "code",
   "execution_count": null,
   "metadata": {},
   "outputs": [],
   "source": [
    "f_users = friendships.map(lambda row: row[0])\n",
    "r_users = reviews.map(lambda row: row[1])\n",
    "\n",
    "all_users = sc.union([f_users, r_users])\n",
    "distinct_users = all_users.distinct().count()"
   ]
  },
  {
   "cell_type": "code",
   "execution_count": null,
   "metadata": {},
   "outputs": [],
   "source": [
    "with open('solutions/task2a.csv', 'w') as f:\n",
    "    f.write(str(distinct_users))"
   ]
  },
  {
   "cell_type": "markdown",
   "metadata": {},
   "source": [
    "### b) Average numbers of characters in a review"
   ]
  },
  {
   "cell_type": "code",
   "execution_count": 6,
   "metadata": {},
   "outputs": [],
   "source": [
    "avg_characters_in_review = reviews.map(lambda row: len(b64decode(row[3]).decode('utf8'))).mean()"
   ]
  },
  {
   "cell_type": "code",
   "execution_count": 7,
   "metadata": {},
   "outputs": [
    {
     "data": {
      "text/plain": [
       "856.8332433744425"
      ]
     },
     "execution_count": 7,
     "metadata": {},
     "output_type": "execute_result"
    }
   ],
   "source": [
    "avg_characters_in_review"
   ]
  },
  {
   "cell_type": "code",
   "execution_count": 8,
   "metadata": {},
   "outputs": [],
   "source": [
    "with open('solutions/task2b.csv', 'w') as f:\n",
    "    f.write(str(avg_characters_in_review))"
   ]
  },
  {
   "cell_type": "markdown",
   "metadata": {},
   "source": [
    "### c) Top 10 businesses by amount of reviews"
   ]
  },
  {
   "cell_type": "code",
   "execution_count": null,
   "metadata": {},
   "outputs": [],
   "source": [
    "top_businesses_by_review = reviews.map(lambda row: (row[2], 1)).reduceByKey(lambda x, y: x + y) \\\n",
    "    .sortBy(lambda row: row[1], ascending=False) \\\n",
    "    .map(lambda row: row[0])"
   ]
  },
  {
   "cell_type": "code",
   "execution_count": null,
   "metadata": {},
   "outputs": [],
   "source": [
    "top_businesses_by_review.take(10)"
   ]
  },
  {
   "cell_type": "code",
   "execution_count": null,
   "metadata": {},
   "outputs": [],
   "source": [
    "top_businesses_by_review.zipWithIndex().filter(lambda row: row[1] < 10).map(lambda row: row[0]) \\\n",
    "    .coalesce(1).saveAsTextFile('solutions/raw/task2c')"
   ]
  },
  {
   "cell_type": "markdown",
   "metadata": {},
   "source": [
    "### d) Reviews per year"
   ]
  },
  {
   "cell_type": "code",
   "execution_count": null,
   "metadata": {},
   "outputs": [],
   "source": [
    "reviews_per_year = reviews.map(lambda row: (datetime.fromtimestamp(float(row[4])).year, 1)) \\\n",
    "    .reduceByKey(lambda x, y: x + y) \\\n",
    "    .sortBy(lambda x: x[0])"
   ]
  },
  {
   "cell_type": "code",
   "execution_count": null,
   "metadata": {},
   "outputs": [],
   "source": [
    "reviews_per_year.collect()"
   ]
  },
  {
   "cell_type": "code",
   "execution_count": null,
   "metadata": {},
   "outputs": [],
   "source": [
    "reviews_per_year.map(lambda row: ','.join(str(d) for d in row)).coalesce(1).saveAsTextFile('solutions/raw/task2d')"
   ]
  },
  {
   "cell_type": "markdown",
   "metadata": {},
   "source": [
    "### e) First and last review"
   ]
  },
  {
   "cell_type": "code",
   "execution_count": null,
   "metadata": {},
   "outputs": [],
   "source": [
    "dates = reviews.map(lambda row: float(row[4]))\n",
    "\n",
    "first_review = datetime.fromtimestamp(dates.sortBy(lambda x: x).first())\n",
    "last_review = datetime.fromtimestamp(dates.sortBy(lambda x: -x).first())"
   ]
  },
  {
   "cell_type": "code",
   "execution_count": null,
   "metadata": {},
   "outputs": [],
   "source": [
    "first_review.strftime(\"%d.%m.%Y, %H:%M:%S\")"
   ]
  },
  {
   "cell_type": "code",
   "execution_count": null,
   "metadata": {},
   "outputs": [],
   "source": [
    "last_review.strftime(\"%d.%m.%Y, %H:%M:%S\")"
   ]
  },
  {
   "cell_type": "code",
   "execution_count": null,
   "metadata": {},
   "outputs": [],
   "source": [
    "with open('solutions/task2e.csv', 'w') as f:\n",
    "    f.write(f'first_review, last_review\\n{first_review}, {last_review}')"
   ]
  },
  {
   "cell_type": "markdown",
   "metadata": {},
   "source": [
    "### f) Pearson Correlation Coefficient"
   ]
  },
  {
   "cell_type": "code",
   "execution_count": 9,
   "metadata": {},
   "outputs": [],
   "source": [
    "count_and_length = reviews.map(lambda row: (row[1], len(b64decode(row[3]).decode('utf8')))) \\\n",
    "    .aggregateByKey((0, 0), lambda x, y: (x[0] + 1, x[1] + y), lambda x, y: (x[0] + y[0], x[1] + y[1])) \\\n",
    "    .map(lambda row: (row[0], row[1][0], row[1][1] / row[1][0]))"
   ]
  },
  {
   "cell_type": "code",
   "execution_count": 10,
   "metadata": {},
   "outputs": [
    {
     "data": {
      "text/plain": [
       "('-InhDRRVG7wrwsgAUvN4Qw', 555, 1118.9351351351352)"
      ]
     },
     "execution_count": 10,
     "metadata": {},
     "output_type": "execute_result"
    }
   ],
   "source": [
    "count_and_length.first()"
   ]
  },
  {
   "cell_type": "code",
   "execution_count": 11,
   "metadata": {},
   "outputs": [],
   "source": [
    "# (count, review_count_sum, review_length_sum)\n",
    "agg = count_and_length.map(lambda row: (row[1], row[2])) \\\n",
    "    .aggregate((0, 0, 0),\n",
    "                lambda x, y: (x[0] + 1, x[1] + y[0], x[2] + y[1]),\n",
    "                lambda x, y: (x[0] + y[0], x[1] + y[1], x[2] + y[2])\n",
    "              )\n",
    "x_avg = agg[1] / agg[0]\n",
    "y_avg = agg[2] / agg[0]"
   ]
  },
  {
   "cell_type": "code",
   "execution_count": 12,
   "metadata": {},
   "outputs": [],
   "source": [
    "pcc_agg = count_and_length.map(lambda row: (row[1], row[2])) \\\n",
    "    .map(lambda row: (\n",
    "                         (row[0] - x_avg) * (row[1] - y_avg),\n",
    "                         (row[0] - x_avg) ** 2,\n",
    "                         (row[1] - y_avg) ** 2\n",
    "                     )) \\\n",
    "    .reduce(lambda x, y: (x[0] + y[0], x[1] + y[1], x[2] + y[2]))\n",
    "\n",
    "pcc = pcc_agg[0] / ((pcc_agg[1] ** 0.5) * (pcc_agg[2] ** 0.5))"
   ]
  },
  {
   "cell_type": "code",
   "execution_count": 13,
   "metadata": {},
   "outputs": [
    {
     "data": {
      "text/plain": [
       "0.12587077666409704"
      ]
     },
     "execution_count": 13,
     "metadata": {},
     "output_type": "execute_result"
    }
   ],
   "source": [
    "pcc"
   ]
  },
  {
   "cell_type": "code",
   "execution_count": 14,
   "metadata": {},
   "outputs": [],
   "source": [
    "with open('solutions/task2f.csv', 'w') as f:\n",
    "    f.write(str(pcc))"
   ]
  },
  {
   "cell_type": "markdown",
   "metadata": {},
   "source": [
    "## Task 3"
   ]
  },
  {
   "cell_type": "markdown",
   "metadata": {},
   "source": [
    "### a) Average rating by city"
   ]
  },
  {
   "cell_type": "code",
   "execution_count": null,
   "metadata": {},
   "outputs": [],
   "source": [
    "avg_rating_by_city = businesses.map(lambda row: (row[3], (float(row[8]), 1))) \\\n",
    "    .reduceByKey(lambda x, y: (x[0] + y[0], x[1] + y[1])) \\\n",
    "    .map(lambda row: (row[0], row[1][0] / row[1][1])) \\\n",
    "    .sortBy(lambda x: x[0])"
   ]
  },
  {
   "cell_type": "code",
   "execution_count": null,
   "metadata": {},
   "outputs": [],
   "source": [
    "avg_rating_by_city.collect()"
   ]
  },
  {
   "cell_type": "code",
   "execution_count": null,
   "metadata": {},
   "outputs": [],
   "source": [
    "avg_rating_by_city.map(lambda row: ','.join(str(r) for r in row)).coalesce(1) \\\n",
    "    .saveAsTextFile('solutions/raw/task3a')"
   ]
  },
  {
   "cell_type": "markdown",
   "metadata": {},
   "source": [
    "### b) Top 10 most frequent categories"
   ]
  },
  {
   "cell_type": "code",
   "execution_count": null,
   "metadata": {},
   "outputs": [],
   "source": [
    "top_categories = businesses.flatMap(lambda row: row[10].split(',')) \\\n",
    "    .map(lambda row: (row.strip(), 1)) \\\n",
    "    .reduceByKey(lambda x, y: x + y) \\\n",
    "    .sortBy(lambda row: row[1], ascending=False)"
   ]
  },
  {
   "cell_type": "code",
   "execution_count": null,
   "metadata": {},
   "outputs": [],
   "source": [
    "top_categories.take(10)"
   ]
  },
  {
   "cell_type": "code",
   "execution_count": null,
   "metadata": {},
   "outputs": [],
   "source": [
    "top_categories.zipWithIndex().filter(lambda row: row[1] < 10) \\\n",
    "    .map(lambda row: row[0][0]).coalesce(1).saveAsTextFile('solutions/raw/task3b')"
   ]
  },
  {
   "cell_type": "markdown",
   "metadata": {},
   "source": [
    "### c) Geographical centroid"
   ]
  },
  {
   "cell_type": "code",
   "execution_count": null,
   "metadata": {},
   "outputs": [],
   "source": [
    "pc_centroids = businesses.map(lambda row: (row[5], (1, float(row[6]), float(row[7])))) \\\n",
    "    .reduceByKey(lambda x, y: (x[0] + y[0], x[1] + y[1], x[2] + y[2])) \\\n",
    "    .map(lambda row: (row[0], (row[1][1] / row[1][0], row[1][2] / row[1][0])))"
   ]
  },
  {
   "cell_type": "code",
   "execution_count": null,
   "metadata": {},
   "outputs": [],
   "source": [
    "pc_centroids.take(5)"
   ]
  },
  {
   "cell_type": "code",
   "execution_count": null,
   "metadata": {},
   "outputs": [],
   "source": [
    "pc_centroids.map(lambda row: f'{row[0]}, {row[1][0]}, {row[1][1]}').coalesce(1) \\\n",
    "    .saveAsTextFile('solutions/raw/task3c')"
   ]
  },
  {
   "cell_type": "markdown",
   "metadata": {},
   "source": [
    "## Task 4"
   ]
  },
  {
   "cell_type": "markdown",
   "metadata": {},
   "source": [
    "### a) Top in and out degrees"
   ]
  },
  {
   "cell_type": "code",
   "execution_count": null,
   "metadata": {},
   "outputs": [],
   "source": [
    "in_out_degrees = friendships.flatMap(lambda row: [(row[0], (0, 1)), (row[1], (1, 0))]) \\\n",
    "        .reduceByKey(lambda x, y: (x[0] + y[0], x[1] + y[1]))"
   ]
  },
  {
   "cell_type": "code",
   "execution_count": null,
   "metadata": {},
   "outputs": [],
   "source": [
    "top_in = in_out_degrees.map(lambda row: (row[0], row[1][0])) \\\n",
    "    .sortBy(lambda row: row[1], ascending=False)"
   ]
  },
  {
   "cell_type": "code",
   "execution_count": null,
   "metadata": {},
   "outputs": [],
   "source": [
    "top_in.take(10)"
   ]
  },
  {
   "cell_type": "code",
   "execution_count": null,
   "metadata": {},
   "outputs": [],
   "source": [
    "top_out = in_out_degrees.map(lambda row: (row[0], row[1][1])) \\\n",
    "    .sortBy(lambda row: row[1], ascending=False)"
   ]
  },
  {
   "cell_type": "code",
   "execution_count": null,
   "metadata": {},
   "outputs": [],
   "source": [
    "top_out.take(10)"
   ]
  },
  {
   "cell_type": "code",
   "execution_count": null,
   "metadata": {},
   "outputs": [],
   "source": [
    "top_in.zipWithIndex().filter(lambda row: row[1] < 10).map(lambda row: row[0][0]) \\\n",
    "    .coalesce(1).saveAsTextFile('solutions/raw/task4a-in')\n",
    "\n",
    "top_out.zipWithIndex().filter(lambda row: row[1] < 10).map(lambda row: row[0][0]) \\\n",
    "    .coalesce(1).saveAsTextFile('solutions/raw/task4a-out')"
   ]
  },
  {
   "cell_type": "markdown",
   "metadata": {},
   "source": [
    "### b) Mean and median in and out degrees"
   ]
  },
  {
   "cell_type": "code",
   "execution_count": null,
   "metadata": {},
   "outputs": [],
   "source": [
    "mean_in = in_out_degrees.map(lambda row: row[1][0]).mean()\n",
    "mean_out = in_out_degrees.map(lambda row: row[1][1]).mean()"
   ]
  },
  {
   "cell_type": "code",
   "execution_count": null,
   "metadata": {},
   "outputs": [],
   "source": [
    "mean_in"
   ]
  },
  {
   "cell_type": "code",
   "execution_count": null,
   "metadata": {},
   "outputs": [],
   "source": [
    "mean_out"
   ]
  },
  {
   "cell_type": "code",
   "execution_count": null,
   "metadata": {},
   "outputs": [],
   "source": [
    "count = in_out_degrees.count()\n",
    "\n",
    "top_in = in_out_degrees.map(lambda row: row[1][0]) \\\n",
    "    .sortBy(lambda row: row, ascending=False) \\\n",
    "    .zipWithIndex() \\\n",
    "    .map(lambda row: (row[1], row[0]))\n",
    "\n",
    "top_out = in_out_degrees.map(lambda row: row[1][1]) \\\n",
    "    .sortBy(lambda row: row, ascending=False) \\\n",
    "    .zipWithIndex() \\\n",
    "    .map(lambda row: (row[1], row[0]))\n",
    "\n",
    "if count % 2 == 0:\n",
    "    l = count // 2\n",
    "    r = l + 1\n",
    "    median_in = (top_in.lookup(l)[0] + top_in.lookup(r)[0]) / 2\n",
    "    median_out = (top_out.lookup(l)[0] + top_out.lookup(r)[0]) / 2\n",
    "else:\n",
    "    mid = count // 2\n",
    "    median_in = top_in.lookup(mid)[0]\n",
    "    median_out = top_out.lookup(mid)[0]"
   ]
  },
  {
   "cell_type": "code",
   "execution_count": null,
   "metadata": {},
   "outputs": [],
   "source": [
    "median_in"
   ]
  },
  {
   "cell_type": "code",
   "execution_count": null,
   "metadata": {},
   "outputs": [],
   "source": [
    "median_out"
   ]
  },
  {
   "cell_type": "code",
   "execution_count": null,
   "metadata": {},
   "outputs": [],
   "source": [
    "with open('solutions/task4b-in.csv', 'w') as f:\n",
    "    f.write(f'mean, median\\n{mean_in},{median_in}')\n",
    "    \n",
    "with open('solutions/task4b-out.csv', 'w') as f:\n",
    "    f.write(f'mean, median\\n{mean_out},{median_out}')"
   ]
  }
 ],
 "metadata": {
  "kernelspec": {
   "display_name": "Python 3",
   "language": "python",
   "name": "python3"
  },
  "language_info": {
   "codemirror_mode": {
    "name": "ipython",
    "version": 3
   },
   "file_extension": ".py",
   "mimetype": "text/x-python",
   "name": "python",
   "nbconvert_exporter": "python",
   "pygments_lexer": "ipython3",
   "version": "3.6.9"
  }
 },
 "nbformat": 4,
 "nbformat_minor": 4
}
